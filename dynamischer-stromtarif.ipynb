{
 "cells": [
  {
   "cell_type": "markdown",
   "metadata": {},
   "source": [
    "# Dynamischer Stromtarif vs. Standardtarif\n",
    "\n",
    "Dynamische Stromtarife wie z.B. [Tibber][] oder [Tado Hourly][] (ehemals awattar) gelten als Teil der Lösung um die Volatitlät erneuerbarere Energien auszugleichen. Anstatt\n",
    "eines fixen Preises pro Kilowattstunde bezahlt man einen variablen Preis abhängig von den Produktionskosten. Wenn die Sonne scheint und der Wind weht, sind diese besonders niedrig. \n",
    "Wenn man sein Verbrauchsverhalten anpasst und große Verbraucher dann einschaltet, wenn der Strom günstig ist, lassen sich damit die Stromkosten senken. Das funktioniert besonders dann \n",
    "gut, wenn man Großverbraucher hat (bspw. eine Wärmepumpe oder ein E-Auto), die sich gut automatisch steuern lassen. \n",
    "\n",
    "Aber wie sieht es für einen normalen Haushalt aus? Ich wohne in einem Haus mit 4 Wohnungen, die sich einen Stromanschluss\n",
    "teilen. Der Verbrauch wird hausintern über Subzähler abgerechnet. Diese Zähler kann ich [digital auslesen](https://github.com/grst/energymeter). \n",
    "Für 2024 habe ich die stundengenauen Verbrauchsdaten für alle vier Wohnungen. Damit kann ich berechnen ob sich ein\n",
    "dynamischer Stromtarif bereits jetzt, ohne steuerbare Großverbraucher rechnen würde. Die Wohnungen haben unterschiedliche\n",
    "Verbrauchsprofile. Zusätzlich verfügt das Haus seit Juni 2024 über eine 24 kWp Photovoltaikanlage mit 22kWh Speicher. \n",
    "In den Sommer und Übergangsmontaten bietet uns das einen Autarkiegrad von fast 100%. Man kauft Netzstrom also haupsächlich\n",
    "im Winter oder Nachts, also dann wenn es auch im Netz keinen PV Strom gibt und der Strom potenziell teurer. Lohnt \n",
    "sich ein dynamischer Stromtarif auch in diesem Fall? \n",
    "\n",
    "\n",
    "| Wohnung | Beschreibung |\n",
    "| -- | -- |\n",
    "|Wohnung 1 | Ganzjährig bewohnt von einer alleinstehenden Person, ca. 25 Jahre alte Haushaltsgeräte. Außerdem laufen aus historischen Gründen diverse gemeinschaftliche Verbraucher (Treppenhaus, Heizung, ...) auf diesen Zähler|\n",
    "|Wohnung 2 | Ganzjährig bewohnt von zwei Personen, zusätzliche 3kWp Photovolatikanlage mit 6kWh Speicher hinter dem Zähler, teilweise erneuerte Haushalsgeräte |\n",
    "|Wohnung 3 | Neubauwohnung mit neuen Haushaltsgeräten, bewohnt von einer Familie mit zwei kleinen Kindern |\n",
    "|Wohnung 4| Nur sporadisch genutzte Ferienwohnung|\n",
    "\n",
    "\n",
    "## Verglichene Stromtarife\n",
    "\n",
    "Es gibt eine Unzahl an unterschiedlichen Stromtarifen in Deutschland mit teilweise sehr unterschiedlichen\n",
    "Preisstrukturen. Hier betrachte ich nur zwei Tarife: \n",
    " * [AÜW Allgäustrom Basis](https://auew.de/privatkunden/strom/allgaeustrom-basis/), unser bisheriger Anbieter\n",
    " * [Tado Hourly][]\n",
    "\n",
    "Die Tarife gestalten sich wie folgt (alle Preise inkl. MwSt)\n",
    "\n",
    "### AÜW Allgäustrom Basis\n",
    "\n",
    "| Jahr | Arbeitspreis pro kWh (inkl. Netzentgelt) | Grundpreis pro Monat |\n",
    "| -- | -- | -- |\n",
    "| 2024 | 32,19 ct | 15,68 EUR |\n",
    "\n",
    "### Tado Hourly\n",
    "\n",
    "| Arbeitspreis pro kWh | Netzentgelt/Abgaben pro kWh | Grundpreis pro Monat |\n",
    "| -- | -- | -- |\n",
    "| Epex Spot + 19% MwSt + 1,785ct | 17,33116 ct | 15,77 EUR |\n",
    "\n",
    "\n",
    "Die Grundpreise sind sehr ähnlich, daher betrachten wir hier nur die Arbeitspreise. \n",
    "\n",
    "## Fragestellungen\n",
    "\n",
    "* Lohnt sich ein dynamischer Stromtarif für einen Standardhaushalt ohne steuerbare Großverbraucher? \n",
    "* Wie verändert sich das Ergebnis über die Jahre hinweg, z.B. während des durch den russischen Angriffskrieg auf \n",
    "  die Ukraine verursachte Energiekrise 2022? \n",
    "\n",
    "[Tado Hourly]: https://energy.tado.com/\n",
    "[Tibber]: https://tibber.com/de\n",
    "\n"
   ]
  },
  {
   "cell_type": "code",
   "execution_count": 18,
   "metadata": {},
   "outputs": [
    {
     "name": "stderr",
     "output_type": "stream",
     "text": [
      "WARNING:param.notebook_extension: matplotlib could not be imported, ensure matplotlib is installed.\n",
      "WARNING:param.notebook_extension: Holoviews matplotlib extension could not be imported, it raised the following exception: ModuleNotFoundError('No module named 'matplotlib'')\n"
     ]
    },
    {
     "data": {
      "text/html": [
       "<b>Warning:</b> Unrecognized resources 'matplotlib'"
      ],
      "text/plain": [
       "<IPython.core.display.HTML object>"
      ]
     },
     "metadata": {},
     "output_type": "display_data"
    },
    {
     "data": {
      "text/html": [
       "<script type=\"esms-options\">{\"shimMode\": true}</script><style>*[data-root-id],\n",
       "*[data-root-id] > * {\n",
       "  box-sizing: border-box;\n",
       "  font-family: var(--jp-ui-font-family);\n",
       "  font-size: var(--jp-ui-font-size1);\n",
       "  color: var(--vscode-editor-foreground, var(--jp-ui-font-color1));\n",
       "}\n",
       "\n",
       "/* Override VSCode background color */\n",
       ".cell-output-ipywidget-background:has(\n",
       "    > .cell-output-ipywidget-background > .lm-Widget > *[data-root-id]\n",
       "  ),\n",
       ".cell-output-ipywidget-background:has(> .lm-Widget > *[data-root-id]) {\n",
       "  background-color: transparent !important;\n",
       "}\n",
       "</style>"
      ]
     },
     "metadata": {},
     "output_type": "display_data"
    },
    {
     "data": {
      "application/javascript": "(function(root) {\n  function now() {\n    return new Date();\n  }\n\n  const force = true;\n  const py_version = '3.6.2'.replace('rc', '-rc.').replace('.dev', '-dev.');\n  const reloading = false;\n  const Bokeh = root.Bokeh;\n\n  // Set a timeout for this load but only if we are not already initializing\n  if (typeof (root._bokeh_timeout) === \"undefined\" || (force || !root._bokeh_is_initializing)) {\n    root._bokeh_timeout = Date.now() + 5000;\n    root._bokeh_failed_load = false;\n  }\n\n  function run_callbacks() {\n    try {\n      root._bokeh_onload_callbacks.forEach(function(callback) {\n        if (callback != null)\n          callback();\n      });\n    } finally {\n      delete root._bokeh_onload_callbacks;\n    }\n    console.debug(\"Bokeh: all callbacks have finished\");\n  }\n\n  function load_libs(css_urls, js_urls, js_modules, js_exports, callback) {\n    if (css_urls == null) css_urls = [];\n    if (js_urls == null) js_urls = [];\n    if (js_modules == null) js_modules = [];\n    if (js_exports == null) js_exports = {};\n\n    root._bokeh_onload_callbacks.push(callback);\n\n    if (root._bokeh_is_loading > 0) {\n      // Don't load bokeh if it is still initializing\n      console.debug(\"Bokeh: BokehJS is being loaded, scheduling callback at\", now());\n      return null;\n    } else if (js_urls.length === 0 && js_modules.length === 0 && Object.keys(js_exports).length === 0) {\n      // There is nothing to load\n      run_callbacks();\n      return null;\n    }\n\n    function on_load() {\n      root._bokeh_is_loading--;\n      if (root._bokeh_is_loading === 0) {\n        console.debug(\"Bokeh: all BokehJS libraries/stylesheets loaded\");\n        run_callbacks()\n      }\n    }\n    window._bokeh_on_load = on_load\n\n    function on_error(e) {\n      const src_el = e.srcElement\n      console.error(\"failed to load \" + (src_el.href || src_el.src));\n    }\n\n    const skip = [];\n    if (window.requirejs) {\n      window.requirejs.config({'packages': {}, 'paths': {}, 'shim': {}});\n      root._bokeh_is_loading = css_urls.length + 0;\n    } else {\n      root._bokeh_is_loading = css_urls.length + js_urls.length + js_modules.length + Object.keys(js_exports).length;\n    }\n\n    const existing_stylesheets = []\n    const links = document.getElementsByTagName('link')\n    for (let i = 0; i < links.length; i++) {\n      const link = links[i]\n      if (link.href != null) {\n        existing_stylesheets.push(link.href)\n      }\n    }\n    for (let i = 0; i < css_urls.length; i++) {\n      const url = css_urls[i];\n      const escaped = encodeURI(url)\n      if (existing_stylesheets.indexOf(escaped) !== -1) {\n        on_load()\n        continue;\n      }\n      const element = document.createElement(\"link\");\n      element.onload = on_load;\n      element.onerror = on_error;\n      element.rel = \"stylesheet\";\n      element.type = \"text/css\";\n      element.href = url;\n      console.debug(\"Bokeh: injecting link tag for BokehJS stylesheet: \", url);\n      document.body.appendChild(element);\n    }    var existing_scripts = []\n    const scripts = document.getElementsByTagName('script')\n    for (let i = 0; i < scripts.length; i++) {\n      var script = scripts[i]\n      if (script.src != null) {\n        existing_scripts.push(script.src)\n      }\n    }\n    for (let i = 0; i < js_urls.length; i++) {\n      const url = js_urls[i];\n      const escaped = encodeURI(url)\n      if (skip.indexOf(escaped) !== -1 || existing_scripts.indexOf(escaped) !== -1) {\n        if (!window.requirejs) {\n          on_load();\n        }\n        continue;\n      }\n      const element = document.createElement('script');\n      element.onload = on_load;\n      element.onerror = on_error;\n      element.async = false;\n      element.src = url;\n      console.debug(\"Bokeh: injecting script tag for BokehJS library: \", url);\n      document.head.appendChild(element);\n    }\n    for (let i = 0; i < js_modules.length; i++) {\n      const url = js_modules[i];\n      const escaped = encodeURI(url)\n      if (skip.indexOf(escaped) !== -1 || existing_scripts.indexOf(escaped) !== -1) {\n        if (!window.requirejs) {\n          on_load();\n        }\n        continue;\n      }\n      var element = document.createElement('script');\n      element.onload = on_load;\n      element.onerror = on_error;\n      element.async = false;\n      element.src = url;\n      element.type = \"module\";\n      console.debug(\"Bokeh: injecting script tag for BokehJS library: \", url);\n      document.head.appendChild(element);\n    }\n    for (const name in js_exports) {\n      const url = js_exports[name];\n      const escaped = encodeURI(url)\n      if (skip.indexOf(escaped) >= 0 || root[name] != null) {\n        if (!window.requirejs) {\n          on_load();\n        }\n        continue;\n      }\n      var element = document.createElement('script');\n      element.onerror = on_error;\n      element.async = false;\n      element.type = \"module\";\n      console.debug(\"Bokeh: injecting script tag for BokehJS library: \", url);\n      element.textContent = `\n      import ${name} from \"${url}\"\n      window.${name} = ${name}\n      window._bokeh_on_load()\n      `\n      document.head.appendChild(element);\n    }\n    if (!js_urls.length && !js_modules.length) {\n      on_load()\n    }\n  };\n\n  function inject_raw_css(css) {\n    const element = document.createElement(\"style\");\n    element.appendChild(document.createTextNode(css));\n    document.body.appendChild(element);\n  }\n\n  const js_urls = [\"https://cdn.holoviz.org/panel/1.5.5/dist/bundled/reactiveesm/es-module-shims@^1.10.0/dist/es-module-shims.min.js\", \"https://cdn.bokeh.org/bokeh/release/bokeh-3.6.2.min.js\", \"https://cdn.bokeh.org/bokeh/release/bokeh-gl-3.6.2.min.js\", \"https://cdn.bokeh.org/bokeh/release/bokeh-widgets-3.6.2.min.js\", \"https://cdn.bokeh.org/bokeh/release/bokeh-tables-3.6.2.min.js\", \"https://cdn.holoviz.org/panel/1.5.5/dist/panel.min.js\"];\n  const js_modules = [];\n  const js_exports = {};\n  const css_urls = [];\n  const inline_js = [    function(Bokeh) {\n      Bokeh.set_log_level(\"info\");\n    },\nfunction(Bokeh) {} // ensure no trailing comma for IE\n  ];\n\n  function run_inline_js() {\n    if ((root.Bokeh !== undefined) || (force === true)) {\n      for (let i = 0; i < inline_js.length; i++) {\n        try {\n          inline_js[i].call(root, root.Bokeh);\n        } catch(e) {\n          if (!reloading) {\n            throw e;\n          }\n        }\n      }\n      // Cache old bokeh versions\n      if (Bokeh != undefined && !reloading) {\n        var NewBokeh = root.Bokeh;\n        if (Bokeh.versions === undefined) {\n          Bokeh.versions = new Map();\n        }\n        if (NewBokeh.version !== Bokeh.version) {\n          Bokeh.versions.set(NewBokeh.version, NewBokeh)\n        }\n        root.Bokeh = Bokeh;\n      }\n    } else if (Date.now() < root._bokeh_timeout) {\n      setTimeout(run_inline_js, 100);\n    } else if (!root._bokeh_failed_load) {\n      console.log(\"Bokeh: BokehJS failed to load within specified timeout.\");\n      root._bokeh_failed_load = true;\n    }\n    root._bokeh_is_initializing = false\n  }\n\n  function load_or_wait() {\n    // Implement a backoff loop that tries to ensure we do not load multiple\n    // versions of Bokeh and its dependencies at the same time.\n    // In recent versions we use the root._bokeh_is_initializing flag\n    // to determine whether there is an ongoing attempt to initialize\n    // bokeh, however for backward compatibility we also try to ensure\n    // that we do not start loading a newer (Panel>=1.0 and Bokeh>3) version\n    // before older versions are fully initialized.\n    if (root._bokeh_is_initializing && Date.now() > root._bokeh_timeout) {\n      // If the timeout and bokeh was not successfully loaded we reset\n      // everything and try loading again\n      root._bokeh_timeout = Date.now() + 5000;\n      root._bokeh_is_initializing = false;\n      root._bokeh_onload_callbacks = undefined;\n      root._bokeh_is_loading = 0\n      console.log(\"Bokeh: BokehJS was loaded multiple times but one version failed to initialize.\");\n      load_or_wait();\n    } else if (root._bokeh_is_initializing || (typeof root._bokeh_is_initializing === \"undefined\" && root._bokeh_onload_callbacks !== undefined)) {\n      setTimeout(load_or_wait, 100);\n    } else {\n      root._bokeh_is_initializing = true\n      root._bokeh_onload_callbacks = []\n      const bokeh_loaded = root.Bokeh != null && (root.Bokeh.version === py_version || (root.Bokeh.versions !== undefined && root.Bokeh.versions.has(py_version)));\n      if (!reloading && !bokeh_loaded) {\n        if (root.Bokeh) {\n          root.Bokeh = undefined;\n        }\n        console.debug(\"Bokeh: BokehJS not loaded, scheduling load and callback at\", now());\n      }\n      load_libs(css_urls, js_urls, js_modules, js_exports, function() {\n        console.debug(\"Bokeh: BokehJS plotting callback run at\", now());\n        run_inline_js();\n      });\n    }\n  }\n  // Give older versions of the autoload script a head-start to ensure\n  // they initialize before we start loading newer version.\n  setTimeout(load_or_wait, 100)\n}(window));",
      "application/vnd.holoviews_load.v0+json": ""
     },
     "metadata": {},
     "output_type": "display_data"
    },
    {
     "data": {
      "application/javascript": "\nif ((window.PyViz === undefined) || (window.PyViz instanceof HTMLElement)) {\n  window.PyViz = {comms: {}, comm_status:{}, kernels:{}, receivers: {}, plot_index: []}\n}\n\n\n    function JupyterCommManager() {\n    }\n\n    JupyterCommManager.prototype.register_target = function(plot_id, comm_id, msg_handler) {\n      if (window.comm_manager || ((window.Jupyter !== undefined) && (Jupyter.notebook.kernel != null))) {\n        var comm_manager = window.comm_manager || Jupyter.notebook.kernel.comm_manager;\n        comm_manager.register_target(comm_id, function(comm) {\n          comm.on_msg(msg_handler);\n        });\n      } else if ((plot_id in window.PyViz.kernels) && (window.PyViz.kernels[plot_id])) {\n        window.PyViz.kernels[plot_id].registerCommTarget(comm_id, function(comm) {\n          comm.onMsg = msg_handler;\n        });\n      } else if (typeof google != 'undefined' && google.colab.kernel != null) {\n        google.colab.kernel.comms.registerTarget(comm_id, (comm) => {\n          var messages = comm.messages[Symbol.asyncIterator]();\n          function processIteratorResult(result) {\n            var message = result.value;\n            console.log(message)\n            var content = {data: message.data, comm_id};\n            var buffers = []\n            for (var buffer of message.buffers || []) {\n              buffers.push(new DataView(buffer))\n            }\n            var metadata = message.metadata || {};\n            var msg = {content, buffers, metadata}\n            msg_handler(msg);\n            return messages.next().then(processIteratorResult);\n          }\n          return messages.next().then(processIteratorResult);\n        })\n      }\n    }\n\n    JupyterCommManager.prototype.get_client_comm = function(plot_id, comm_id, msg_handler) {\n      if (comm_id in window.PyViz.comms) {\n        return window.PyViz.comms[comm_id];\n      } else if (window.comm_manager || ((window.Jupyter !== undefined) && (Jupyter.notebook.kernel != null))) {\n        var comm_manager = window.comm_manager || Jupyter.notebook.kernel.comm_manager;\n        var comm = comm_manager.new_comm(comm_id, {}, {}, {}, comm_id);\n        if (msg_handler) {\n          comm.on_msg(msg_handler);\n        }\n      } else if ((plot_id in window.PyViz.kernels) && (window.PyViz.kernels[plot_id])) {\n        var comm = window.PyViz.kernels[plot_id].connectToComm(comm_id);\n        comm.open();\n        if (msg_handler) {\n          comm.onMsg = msg_handler;\n        }\n      } else if (typeof google != 'undefined' && google.colab.kernel != null) {\n        var comm_promise = google.colab.kernel.comms.open(comm_id)\n        comm_promise.then((comm) => {\n          window.PyViz.comms[comm_id] = comm;\n          if (msg_handler) {\n            var messages = comm.messages[Symbol.asyncIterator]();\n            function processIteratorResult(result) {\n              var message = result.value;\n              var content = {data: message.data};\n              var metadata = message.metadata || {comm_id};\n              var msg = {content, metadata}\n              msg_handler(msg);\n              return messages.next().then(processIteratorResult);\n            }\n            return messages.next().then(processIteratorResult);\n          }\n        }) \n        var sendClosure = (data, metadata, buffers, disposeOnDone) => {\n          return comm_promise.then((comm) => {\n            comm.send(data, metadata, buffers, disposeOnDone);\n          });\n        };\n        var comm = {\n          send: sendClosure\n        };\n      }\n      window.PyViz.comms[comm_id] = comm;\n      return comm;\n    }\n    window.PyViz.comm_manager = new JupyterCommManager();\n    \n\n\nvar JS_MIME_TYPE = 'application/javascript';\nvar HTML_MIME_TYPE = 'text/html';\nvar EXEC_MIME_TYPE = 'application/vnd.holoviews_exec.v0+json';\nvar CLASS_NAME = 'output';\n\n/**\n * Render data to the DOM node\n */\nfunction render(props, node) {\n  var div = document.createElement(\"div\");\n  var script = document.createElement(\"script\");\n  node.appendChild(div);\n  node.appendChild(script);\n}\n\n/**\n * Handle when a new output is added\n */\nfunction handle_add_output(event, handle) {\n  var output_area = handle.output_area;\n  var output = handle.output;\n  if ((output.data == undefined) || (!output.data.hasOwnProperty(EXEC_MIME_TYPE))) {\n    return\n  }\n  var id = output.metadata[EXEC_MIME_TYPE][\"id\"];\n  var toinsert = output_area.element.find(\".\" + CLASS_NAME.split(' ')[0]);\n  if (id !== undefined) {\n    var nchildren = toinsert.length;\n    var html_node = toinsert[nchildren-1].children[0];\n    html_node.innerHTML = output.data[HTML_MIME_TYPE];\n    var scripts = [];\n    var nodelist = html_node.querySelectorAll(\"script\");\n    for (var i in nodelist) {\n      if (nodelist.hasOwnProperty(i)) {\n        scripts.push(nodelist[i])\n      }\n    }\n\n    scripts.forEach( function (oldScript) {\n      var newScript = document.createElement(\"script\");\n      var attrs = [];\n      var nodemap = oldScript.attributes;\n      for (var j in nodemap) {\n        if (nodemap.hasOwnProperty(j)) {\n          attrs.push(nodemap[j])\n        }\n      }\n      attrs.forEach(function(attr) { newScript.setAttribute(attr.name, attr.value) });\n      newScript.appendChild(document.createTextNode(oldScript.innerHTML));\n      oldScript.parentNode.replaceChild(newScript, oldScript);\n    });\n    if (JS_MIME_TYPE in output.data) {\n      toinsert[nchildren-1].children[1].textContent = output.data[JS_MIME_TYPE];\n    }\n    output_area._hv_plot_id = id;\n    if ((window.Bokeh !== undefined) && (id in Bokeh.index)) {\n      window.PyViz.plot_index[id] = Bokeh.index[id];\n    } else {\n      window.PyViz.plot_index[id] = null;\n    }\n  } else if (output.metadata[EXEC_MIME_TYPE][\"server_id\"] !== undefined) {\n    var bk_div = document.createElement(\"div\");\n    bk_div.innerHTML = output.data[HTML_MIME_TYPE];\n    var script_attrs = bk_div.children[0].attributes;\n    for (var i = 0; i < script_attrs.length; i++) {\n      toinsert[toinsert.length - 1].childNodes[1].setAttribute(script_attrs[i].name, script_attrs[i].value);\n    }\n    // store reference to server id on output_area\n    output_area._bokeh_server_id = output.metadata[EXEC_MIME_TYPE][\"server_id\"];\n  }\n}\n\n/**\n * Handle when an output is cleared or removed\n */\nfunction handle_clear_output(event, handle) {\n  var id = handle.cell.output_area._hv_plot_id;\n  var server_id = handle.cell.output_area._bokeh_server_id;\n  if (((id === undefined) || !(id in PyViz.plot_index)) && (server_id !== undefined)) { return; }\n  var comm = window.PyViz.comm_manager.get_client_comm(\"hv-extension-comm\", \"hv-extension-comm\", function () {});\n  if (server_id !== null) {\n    comm.send({event_type: 'server_delete', 'id': server_id});\n    return;\n  } else if (comm !== null) {\n    comm.send({event_type: 'delete', 'id': id});\n  }\n  delete PyViz.plot_index[id];\n  if ((window.Bokeh !== undefined) & (id in window.Bokeh.index)) {\n    var doc = window.Bokeh.index[id].model.document\n    doc.clear();\n    const i = window.Bokeh.documents.indexOf(doc);\n    if (i > -1) {\n      window.Bokeh.documents.splice(i, 1);\n    }\n  }\n}\n\n/**\n * Handle kernel restart event\n */\nfunction handle_kernel_cleanup(event, handle) {\n  delete PyViz.comms[\"hv-extension-comm\"];\n  window.PyViz.plot_index = {}\n}\n\n/**\n * Handle update_display_data messages\n */\nfunction handle_update_output(event, handle) {\n  handle_clear_output(event, {cell: {output_area: handle.output_area}})\n  handle_add_output(event, handle)\n}\n\nfunction register_renderer(events, OutputArea) {\n  function append_mime(data, metadata, element) {\n    // create a DOM node to render to\n    var toinsert = this.create_output_subarea(\n    metadata,\n    CLASS_NAME,\n    EXEC_MIME_TYPE\n    );\n    this.keyboard_manager.register_events(toinsert);\n    // Render to node\n    var props = {data: data, metadata: metadata[EXEC_MIME_TYPE]};\n    render(props, toinsert[0]);\n    element.append(toinsert);\n    return toinsert\n  }\n\n  events.on('output_added.OutputArea', handle_add_output);\n  events.on('output_updated.OutputArea', handle_update_output);\n  events.on('clear_output.CodeCell', handle_clear_output);\n  events.on('delete.Cell', handle_clear_output);\n  events.on('kernel_ready.Kernel', handle_kernel_cleanup);\n\n  OutputArea.prototype.register_mime_type(EXEC_MIME_TYPE, append_mime, {\n    safe: true,\n    index: 0\n  });\n}\n\nif (window.Jupyter !== undefined) {\n  try {\n    var events = require('base/js/events');\n    var OutputArea = require('notebook/js/outputarea').OutputArea;\n    if (OutputArea.prototype.mime_types().indexOf(EXEC_MIME_TYPE) == -1) {\n      register_renderer(events, OutputArea);\n    }\n  } catch(err) {\n  }\n}\n",
      "application/vnd.holoviews_load.v0+json": ""
     },
     "metadata": {},
     "output_type": "display_data"
    },
    {
     "data": {
      "application/vnd.holoviews_exec.v0+json": "",
      "text/html": [
       "<div id='1ba655fd-f430-459d-b48e-c998e74aa6c2'>\n",
       "  <div id=\"c5f8e6e4-9d56-4e9e-b205-bfbe2522a183\" data-root-id=\"1ba655fd-f430-459d-b48e-c998e74aa6c2\" style=\"display: contents;\"></div>\n",
       "</div>\n",
       "<script type=\"application/javascript\">(function(root) {\n",
       "  var docs_json = {\"9709a66c-5926-4dcc-95ac-ba6b8326ffca\":{\"version\":\"3.6.2\",\"title\":\"Bokeh Application\",\"roots\":[{\"type\":\"object\",\"name\":\"panel.models.browser.BrowserInfo\",\"id\":\"1ba655fd-f430-459d-b48e-c998e74aa6c2\"},{\"type\":\"object\",\"name\":\"panel.models.comm_manager.CommManager\",\"id\":\"14f0e83a-9986-4ba7-bd67-2146d4282507\",\"attributes\":{\"plot_id\":\"1ba655fd-f430-459d-b48e-c998e74aa6c2\",\"comm_id\":\"2de24486d7714f4c9c5ffcd522de50e0\",\"client_comm_id\":\"e9feacc41ea64b93801aa66976e78c55\"}}],\"defs\":[{\"type\":\"model\",\"name\":\"ReactiveHTML1\"},{\"type\":\"model\",\"name\":\"FlexBox1\",\"properties\":[{\"name\":\"align_content\",\"kind\":\"Any\",\"default\":\"flex-start\"},{\"name\":\"align_items\",\"kind\":\"Any\",\"default\":\"flex-start\"},{\"name\":\"flex_direction\",\"kind\":\"Any\",\"default\":\"row\"},{\"name\":\"flex_wrap\",\"kind\":\"Any\",\"default\":\"wrap\"},{\"name\":\"gap\",\"kind\":\"Any\",\"default\":\"\"},{\"name\":\"justify_content\",\"kind\":\"Any\",\"default\":\"flex-start\"}]},{\"type\":\"model\",\"name\":\"FloatPanel1\",\"properties\":[{\"name\":\"config\",\"kind\":\"Any\",\"default\":{\"type\":\"map\"}},{\"name\":\"contained\",\"kind\":\"Any\",\"default\":true},{\"name\":\"position\",\"kind\":\"Any\",\"default\":\"right-top\"},{\"name\":\"offsetx\",\"kind\":\"Any\",\"default\":null},{\"name\":\"offsety\",\"kind\":\"Any\",\"default\":null},{\"name\":\"theme\",\"kind\":\"Any\",\"default\":\"primary\"},{\"name\":\"status\",\"kind\":\"Any\",\"default\":\"normalized\"}]},{\"type\":\"model\",\"name\":\"GridStack1\",\"properties\":[{\"name\":\"mode\",\"kind\":\"Any\",\"default\":\"warn\"},{\"name\":\"ncols\",\"kind\":\"Any\",\"default\":null},{\"name\":\"nrows\",\"kind\":\"Any\",\"default\":null},{\"name\":\"allow_resize\",\"kind\":\"Any\",\"default\":true},{\"name\":\"allow_drag\",\"kind\":\"Any\",\"default\":true},{\"name\":\"state\",\"kind\":\"Any\",\"default\":[]}]},{\"type\":\"model\",\"name\":\"drag1\",\"properties\":[{\"name\":\"slider_width\",\"kind\":\"Any\",\"default\":5},{\"name\":\"slider_color\",\"kind\":\"Any\",\"default\":\"black\"},{\"name\":\"value\",\"kind\":\"Any\",\"default\":50}]},{\"type\":\"model\",\"name\":\"click1\",\"properties\":[{\"name\":\"terminal_output\",\"kind\":\"Any\",\"default\":\"\"},{\"name\":\"debug_name\",\"kind\":\"Any\",\"default\":\"\"},{\"name\":\"clears\",\"kind\":\"Any\",\"default\":0}]},{\"type\":\"model\",\"name\":\"FastWrapper1\",\"properties\":[{\"name\":\"object\",\"kind\":\"Any\",\"default\":null},{\"name\":\"style\",\"kind\":\"Any\",\"default\":null}]},{\"type\":\"model\",\"name\":\"NotificationAreaBase1\",\"properties\":[{\"name\":\"js_events\",\"kind\":\"Any\",\"default\":{\"type\":\"map\"}},{\"name\":\"position\",\"kind\":\"Any\",\"default\":\"bottom-right\"},{\"name\":\"_clear\",\"kind\":\"Any\",\"default\":0}]},{\"type\":\"model\",\"name\":\"NotificationArea1\",\"properties\":[{\"name\":\"js_events\",\"kind\":\"Any\",\"default\":{\"type\":\"map\"}},{\"name\":\"notifications\",\"kind\":\"Any\",\"default\":[]},{\"name\":\"position\",\"kind\":\"Any\",\"default\":\"bottom-right\"},{\"name\":\"_clear\",\"kind\":\"Any\",\"default\":0},{\"name\":\"types\",\"kind\":\"Any\",\"default\":[{\"type\":\"map\",\"entries\":[[\"type\",\"warning\"],[\"background\",\"#ffc107\"],[\"icon\",{\"type\":\"map\",\"entries\":[[\"className\",\"fas fa-exclamation-triangle\"],[\"tagName\",\"i\"],[\"color\",\"white\"]]}]]},{\"type\":\"map\",\"entries\":[[\"type\",\"info\"],[\"background\",\"#007bff\"],[\"icon\",{\"type\":\"map\",\"entries\":[[\"className\",\"fas fa-info-circle\"],[\"tagName\",\"i\"],[\"color\",\"white\"]]}]]}]}]},{\"type\":\"model\",\"name\":\"Notification\",\"properties\":[{\"name\":\"background\",\"kind\":\"Any\",\"default\":null},{\"name\":\"duration\",\"kind\":\"Any\",\"default\":3000},{\"name\":\"icon\",\"kind\":\"Any\",\"default\":null},{\"name\":\"message\",\"kind\":\"Any\",\"default\":\"\"},{\"name\":\"notification_type\",\"kind\":\"Any\",\"default\":null},{\"name\":\"_rendered\",\"kind\":\"Any\",\"default\":false},{\"name\":\"_destroyed\",\"kind\":\"Any\",\"default\":false}]},{\"type\":\"model\",\"name\":\"TemplateActions1\",\"properties\":[{\"name\":\"open_modal\",\"kind\":\"Any\",\"default\":0},{\"name\":\"close_modal\",\"kind\":\"Any\",\"default\":0}]},{\"type\":\"model\",\"name\":\"BootstrapTemplateActions1\",\"properties\":[{\"name\":\"open_modal\",\"kind\":\"Any\",\"default\":0},{\"name\":\"close_modal\",\"kind\":\"Any\",\"default\":0}]},{\"type\":\"model\",\"name\":\"TemplateEditor1\",\"properties\":[{\"name\":\"layout\",\"kind\":\"Any\",\"default\":[]}]},{\"type\":\"model\",\"name\":\"MaterialTemplateActions1\",\"properties\":[{\"name\":\"open_modal\",\"kind\":\"Any\",\"default\":0},{\"name\":\"close_modal\",\"kind\":\"Any\",\"default\":0}]},{\"type\":\"model\",\"name\":\"ReactiveESM1\",\"properties\":[{\"name\":\"esm_constants\",\"kind\":\"Any\",\"default\":{\"type\":\"map\"}}]},{\"type\":\"model\",\"name\":\"JSComponent1\",\"properties\":[{\"name\":\"esm_constants\",\"kind\":\"Any\",\"default\":{\"type\":\"map\"}}]},{\"type\":\"model\",\"name\":\"ReactComponent1\",\"properties\":[{\"name\":\"esm_constants\",\"kind\":\"Any\",\"default\":{\"type\":\"map\"}}]},{\"type\":\"model\",\"name\":\"AnyWidgetComponent1\",\"properties\":[{\"name\":\"esm_constants\",\"kind\":\"Any\",\"default\":{\"type\":\"map\"}}]},{\"type\":\"model\",\"name\":\"request_value1\",\"properties\":[{\"name\":\"fill\",\"kind\":\"Any\",\"default\":\"none\"},{\"name\":\"_synced\",\"kind\":\"Any\",\"default\":null},{\"name\":\"_request_sync\",\"kind\":\"Any\",\"default\":0}]}]}};\n",
       "  var render_items = [{\"docid\":\"9709a66c-5926-4dcc-95ac-ba6b8326ffca\",\"roots\":{\"1ba655fd-f430-459d-b48e-c998e74aa6c2\":\"c5f8e6e4-9d56-4e9e-b205-bfbe2522a183\"},\"root_ids\":[\"1ba655fd-f430-459d-b48e-c998e74aa6c2\"]}];\n",
       "  var docs = Object.values(docs_json)\n",
       "  if (!docs) {\n",
       "    return\n",
       "  }\n",
       "  const py_version = docs[0].version.replace('rc', '-rc.').replace('.dev', '-dev.')\n",
       "  async function embed_document(root) {\n",
       "    var Bokeh = get_bokeh(root)\n",
       "    await Bokeh.embed.embed_items_notebook(docs_json, render_items);\n",
       "    for (const render_item of render_items) {\n",
       "      for (const root_id of render_item.root_ids) {\n",
       "\tconst id_el = document.getElementById(root_id)\n",
       "\tif (id_el.children.length && id_el.children[0].hasAttribute('data-root-id')) {\n",
       "\t  const root_el = id_el.children[0]\n",
       "\t  root_el.id = root_el.id + '-rendered'\n",
       "\t  for (const child of root_el.children) {\n",
       "            // Ensure JupyterLab does not capture keyboard shortcuts\n",
       "            // see: https://jupyterlab.readthedocs.io/en/4.1.x/extension/notebook.html#keyboard-interaction-model\n",
       "\t    child.setAttribute('data-lm-suppress-shortcuts', 'true')\n",
       "\t  }\n",
       "\t}\n",
       "      }\n",
       "    }\n",
       "  }\n",
       "  function get_bokeh(root) {\n",
       "    if (root.Bokeh === undefined) {\n",
       "      return null\n",
       "    } else if (root.Bokeh.version !== py_version) {\n",
       "      if (root.Bokeh.versions === undefined || !root.Bokeh.versions.has(py_version)) {\n",
       "\treturn null\n",
       "      }\n",
       "      return root.Bokeh.versions.get(py_version);\n",
       "    } else if (root.Bokeh.version === py_version) {\n",
       "      return root.Bokeh\n",
       "    }\n",
       "    return null\n",
       "  }\n",
       "  function is_loaded(root) {\n",
       "    var Bokeh = get_bokeh(root)\n",
       "    return (Bokeh != null && Bokeh.Panel !== undefined)\n",
       "  }\n",
       "  if (is_loaded(root)) {\n",
       "    embed_document(root);\n",
       "  } else {\n",
       "    var attempts = 0;\n",
       "    var timer = setInterval(function(root) {\n",
       "      if (is_loaded(root)) {\n",
       "        clearInterval(timer);\n",
       "        embed_document(root);\n",
       "      } else if (document.readyState == \"complete\") {\n",
       "        attempts++;\n",
       "        if (attempts > 200) {\n",
       "          clearInterval(timer);\n",
       "\t  var Bokeh = get_bokeh(root)\n",
       "\t  if (Bokeh == null || Bokeh.Panel == null) {\n",
       "            console.warn(\"Panel: ERROR: Unable to run Panel code because Bokeh or Panel library is missing\");\n",
       "\t  } else {\n",
       "\t    console.warn(\"Panel: WARNING: Attempting to render but not all required libraries could be resolved.\")\n",
       "\t    embed_document(root)\n",
       "\t  }\n",
       "        }\n",
       "      }\n",
       "    }, 25, root)\n",
       "  }\n",
       "})(window);</script>"
      ]
     },
     "metadata": {
      "application/vnd.holoviews_exec.v0+json": {
       "id": "1ba655fd-f430-459d-b48e-c998e74aa6c2"
      }
     },
     "output_type": "display_data"
    },
    {
     "data": {
      "text/html": [
       "\n",
       "<div class=\"logo-block\">\n",
       "<img src='data:image/png;base64,iVBORw0KGgoAAAANSUhEUgAAAEAAAABACAYAAACqaXHeAAAABHNCSVQICAgIfAhkiAAAAAlwSFlz\n",
       "AAAB+wAAAfsBxc2miwAAABl0RVh0U29mdHdhcmUAd3d3Lmlua3NjYXBlLm9yZ5vuPBoAAA6zSURB\n",
       "VHic7ZtpeFRVmsf/5966taWqUlUJ2UioBBJiIBAwCZtog9IOgjqACsogKtqirT2ttt069nQ/zDzt\n",
       "tI4+CrJIREFaFgWhBXpUNhHZQoKBkIUASchWla1S+3ar7r1nPkDaCAnZKoQP/D7mnPOe9/xy76n3\n",
       "nFSAW9ziFoPFNED2LLK5wcyBDObkb8ZkxuaoSYlI6ZcOKq1eWFdedqNzGHQBk9RMEwFAASkk0Xw3\n",
       "ETacDNi2vtvc7L0ROdw0AjoSotQVkKSvHQz/wRO1lScGModBFbDMaNRN1A4tUBCS3lk7BWhQkgpD\n",
       "lG4852/+7DWr1R3uHAZVQDsbh6ZPN7CyxUrCzJMRouusj0ipRwD2uKm0Zn5d2dFwzX1TCGhnmdGo\n",
       "G62Nna+isiUqhkzuKrkQaJlPEv5mFl2fvGg2t/VnzkEV8F5ioioOEWkLG86fvbpthynjdhXYZziQ\n",
       "x1hC9J2NFyi8vCTt91Fh04KGip0AaG9zuCk2wQCVyoNU3Hjezee9bq92duzzTmxsRJoy+jEZZZYo\n",
       "GTKJ6SJngdJqAfRzpze0+jHreUtPc7gpBLQnIYK6BYp/uGhw9YK688eu7v95ysgshcg9qSLMo3JC\n",
       "4jqLKQFBgdKDPoQ+Pltb8dUyQLpeDjeVgI6EgLIQFT5tEl3rn2losHVsexbZ3EyT9wE1uGdkIPcy\n",
       "BGxn8QUq1QrA5nqW5i2tLqvrrM9NK6AdkVIvL9E9bZL/oyfMVd/jqvc8LylzRBKDJSzIExwhQzuL\n",
       "QYGQj4rHfFTc8mUdu3E7yoLtbTe9gI4EqVgVkug2i5+uXGo919ixbRog+3fTbQ8qJe4ZOYNfMoTI\n",
       "OoshUNosgO60AisX15aeI2PSIp5KiFLI9ubb1vV3Qb2ltwLakUCDAkWX7/nHKRmmGIl9VgYsUhJm\n",
       "2NXjKYADtM1ygne9QQDIXlk49FBstMKx66D1v4+XuQr7vqTe0VcBHQlRWiOCbmmSYe2SqtL6q5rJ\n",
       "zsTb7lKx3FKOYC4DoqyS/B5bvLPxvD9Qtf6saxYLQGJErmDOdOMr/zo96km1nElr8bmPOBwI9COv\n",
       "HnFPRIwmkSOv9kcAS4heRsidOkpeWBgZM+UBrTFAXNYL5Vf2ii9c1trNzpYdaoVil3WIc+wdk+gQ\n",
       "noie3ecCcxt9ITcLAPWt/laGEO/9U6PmzZkenTtsSMQ8uYywJVW+grCstAvCIaAdArAsIWkRDDs/\n",
       "KzLm2YcjY1Lv0UdW73HabE9n6V66cxSzfEmuJssTpKGVp+0vHq73FwL46eOjpMpbRAnNmJFrGJNu\n",
       "Ukf9Yrz+3rghiumCKNXXWPhLYcjxGsIpoCMsIRoFITkW8AuyM8jC1+/QLx4bozCEJIq38+1rtpR6\n",
       "V/yzb8eBlRb3fo5l783N0CWolAzJHaVNzkrTzlEp2bQ2q3TC5gn6wpnoQAmwSiGh2GitnTmVMc5O\n",
       "UyfKWUKCIsU7+fZDKwqdT6DDpvkzAX4/+AMFjk0tDp5GRXLpQ2MUmhgDp5gxQT8+Y7hyPsMi8uxF\n",
       "71H0oebujHALECjFKaW9Lm68n18wXp2kVzIcABytD5iXFzg+WVXkegpAsOOYziqo0OkK76GyquC3\n",
       "ltZAzMhhqlSNmmWTE5T6e3IN05ITFLM4GdN0vtZ3ob8Jh1NAKXFbm5PtLU/eqTSlGjkNAJjdgn/N\n",
       "aedXa0tdi7+t9G0FIF49rtMSEgAs1kDLkTPO7ebm4IUWeyh1bKomXqlgMG6kJmHcSM0clYLJ8XtR\n",
       "1GTnbV3F6I5wCGikAb402npp1h1s7LQUZZSMIfALFOuL3UUrfnS8+rez7v9qcold5tilgHbO1fjK\n",
       "9ubb17u9oshxzMiUBKXWqJNxd+fqb0tLVs4lILFnK71H0Ind7uiPgACVcFJlrb0tV6DzxqqTIhUM\n",
       "CwDf1/rrVhTa33/3pGPxJYdQ2l2cbgVcQSosdx8uqnDtbGjh9SlDVSMNWhlnilfqZk42Th2ZpLpf\n",
       "xrHec5e815zrr0dfBZSwzkZfqsv+1FS1KUknUwPARVvItfKUY+cn57yP7qv07UE3p8B2uhUwLk09\n",
       "e0SCOrK+hbdYHYLjRIl71wWzv9jpEoeOHhGRrJAzyEyNiJuUqX0g2sBN5kGK6y2Blp5M3lsB9Qh4\n",
       "y2Ja6x6+i0ucmKgwMATwhSjdUu49tKrQ/pvN5d53ml2CGwCmJipmKjgmyuaXzNeL2a0AkQ01Th5j\n",
       "2DktO3Jyk8f9vcOBQHV94OK+fPumJmvQHxJoWkaKWq9Vs+yUsbq0zGT1I4RgeH2b5wef7+c7bl8F\n",
       "eKgoHVVZa8ZPEORzR6sT1BzDUAD/d9F78e2Tzv99v8D+fLVTqAKAsbGamKey1Mt9Ann4eH3gTXTz\n",
       "idWtAJ8PQWOk7NzSeQn/OTHDuEikVF1R4z8BQCy+6D1aWRfY0tTGG2OM8rRoPaeIj5ZHzJxszElN\n",
       "VM8K8JS5WOfv8mzRnQAKoEhmt8gyPM4lU9SmBK1MCQBnW4KONT86v1hZ1PbwSXPw4JWussVjtH9Y\n",
       "NCoiL9UoH/6PSu8jFrfY2t36erQHXLIEakMi1SydmzB31h3GGXFDFNPaK8Rme9B79Ixrd0WN+1ij\n",
       "NRQ/doRmuFLBkHSTOm5GruG+pFjFdAmorG4IXH1Qua6ASniclfFtDYt+oUjKipPrCQB7QBQ2lrgP\n",
       "fFzm+9XWUtcqJ3/5vDLDpJ79XHZk3u8nGZ42qlj1+ydtbxysCezrydp6ugmipNJ7WBPB5tydY0jP\n",
       "HaVNzs3QzeE4ZpTbI+ZbnSFPbVOw9vsfnVvqWnirPyCNGD08IlqtYkh2hjZ5dErEQzoNm+6ykyOt\n",
       "Lt5/PQEuSRRKo22VkydK+vvS1XEKlhCJAnsqvcVvH7f/ZU2R67eXbMEGAMiIV5oWZWiWvz5Fv2xG\n",
       "sjqNJQRvn3Rs2lji/lNP19VjAQDgD7FHhujZB9OGqYxRkZxixgRDVlqS6uEOFaJUVu0rPFzctrnF\n",
       "JqijImVp8dEKVWyUXDk92zAuMZ6bFwpBU1HrOw6AdhQgUooChb0+ItMbWJitSo5Ws3IAOGEOtL53\n",
       "0vHZih9sC4vtofZ7Qu6523V/fmGcds1TY3V36pUsBwAbSlxnVh2xLfAD/IAIMDf7XYIkNmXfpp2l\n",
       "18rkAJAy9HKFaIr/qULkeQQKy9zf1JgDB2uaeFNGijo5QsUyacNUUTOnGO42xSnv4oOwpDi1zYkc\n",
       "efUc3I5Gk6PhyTuVKaOGyLUAYPGIoY9Pu/atL/L92+4q9wbflRJ2Trpm/jPjdBtfnqB/dIThcl8A\n",
       "KG7hbRuKnb8qsQsVvVlTrwQAQMUlf3kwJI24Z4JhPMtcfng5GcH49GsrxJpGvvHIaeem2ma+KSjQ\n",
       "lIwUdYyCY8j4dE1KzijNnIP2llF2wcXNnsoapw9XxsgYAl6k+KzUXbi2yP3KR2ecf6z3BFsBICdW\n",
       "nvnIaG3eHybqX7vbpEqUMT+9OL4Qpe8VON7dXuFd39v19FoAABRVePbGGuXTszO0P7tu6lghUonE\n",
       "llRdrhArLvmKdh9u29jcFiRRkfLUxBiFNiqSU9icoZQHo5mYBI1MBgBH6wMNb+U7Pnw337H4gi1Y\n",
       "ciWs+uks3Z9fztUvfzxTm9Ne8XXkvQLHNytOOZeiD4e0PgkAIAYCYknKUNUDSXEKzdWNpnil7r4p\n",
       "xqkjTarZMtk/K8TQ6Qve78qqvXurGwIJqcOUKfUWHsm8KGvxSP68YudXq4pcj39X49uOK2X142O0\n",
       "Tz5/u/7TVybqH0rSya6ZBwD21/gubbrgWdDgEOx9WUhfBaC2ibcEBYm7a7x+ukrBMNcEZggyR0TE\n",
       "T8zUPjikQ4VosQZbTpS4vqizBKvqmvjsqnpfzaZyx9JPiz1/bfGKdgD45XB1zoIMzYbfTdS/NClB\n",
       "Gct0USiY3YL/g0LHy/uq/Ef6uo5+n0R/vyhp17Klpge763f8rMu6YU/zrn2nml+2WtH+Z+5IAAFc\n",
       "2bUTdTDOSNa9+cQY7YLsOIXhevEkCvzph7a8laecz/Un/z4/Ae04XeL3UQb57IwU9ZDr9UuKVajv\n",
       "nxp1+1UVIo/LjztZkKH59fO3G/JemqCfmaCRqbqbd90ZZ8FfjtkfAyD0J/9+C2h1hDwsSxvGjNDc\n",
       "b4zk5NfrSwiQblLHzZhg+Jf4aPlUwpDqkQqa9nimbt1/TDH8OitGMaQnj+RJS6B1fbF7SY1TqO5v\n",
       "/v0WAADl1f7zokgS7s7VT2DZ7pegUjBM7mjtiDZbcN4j0YrHH0rXpCtY0qPX0cVL0rv5jv/ZXend\n",
       "0u/EESYBAFBU4T4Qa5TflZOhTe7pmKpaP8kCVUVw1+yhXfJWvn1P3hnXi33JsTN6PnP3hHZ8Z3/h\n",
       "aLHzmkNPuPj7Bc/F/Q38CwjTpSwQXgE4Vmwry9tpfq/ZFgqFMy4AVDtCvi8rvMvOmv0N4YwbVgEA\n",
       "sPM72/KVnzfspmH7HQGCRLG2yL1+z8XwvPcdCbsAANh+xPzstgMtxeGKt+6MK3/tacfvwhWvIwMi\n",
       "oKEBtm0H7W+UVfkc/Y1V0BhoPlDr/w1w/eu1vjIgAgDg22OtX6/eYfnEz/focrZTHAFR+PSs56/7\n",
       "q32nwpjazxgwAQCwcU/T62t3WL7r6/jVRa6/byp1rei+Z98ZUAEAhEPHPc8fKnTU9nbgtnOe8h0l\n",
       "9hcGIqmODLQAHCy2Xti6v/XNRivf43f4fFvIteu854+VHnR7q9tfBlwAAGz+pnndB9vM26UebAe8\n",
       "SLHujPOTPVW+rwY+sxskAAC2HrA8t2Vvc7ffP1r9o+vwR2dcr92InIAbKKC1FZ5tB1tf+/G8p8sv\n",
       "N/9Q5zd/XR34LYCwV5JdccMEAMDBk45DH243r/X4xGvqxFa/GNpS7n6rwOwNWwHVE26oAADYurf1\n",
       "zx/utOzt+DMKYM0p17YtZZ5VNzqfsB2HewG1WXE8PoZ7gOclbTIvynZf9JV+fqZtfgs/8F/Nu5rB\n",
       "EIBmJ+8QRMmpU7EzGRsf2FzuePqYRbzh/zE26EwdrT10f6r6o8HOYzCJB9Dpff8tbnGLG8L/A/WE\n",
       "roTBs2RqAAAAAElFTkSuQmCC'\n",
       "     style='height:25px; border-radius:12px; display: inline-block; float: left; vertical-align: middle'></img>\n",
       "\n",
       "\n",
       "  <img src='data:image/png;base64,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'\n",
       "       style='height:15px; border-radius:12px; display: inline-block; float: left'></img>\n",
       "  \n",
       "\n",
       "\n",
       "\n",
       "\n",
       "</div>\n"
      ]
     },
     "metadata": {},
     "output_type": "display_data"
    }
   ],
   "source": [
    "import pandas as pd\n",
    "from datetime import datetime\n",
    "import requests\n",
    "import holoviews as hv\n",
    "hv.extension(\"bokeh\", \"matplotlib\")"
   ]
  },
  {
   "cell_type": "code",
   "execution_count": 19,
   "metadata": {},
   "outputs": [],
   "source": [
    "VAT = 1.19 # VAT for dynamic prices\n",
    "FIXED_FEE_PER_KWH = 0.19116 #EUR / kWh (brutto) (on top of dynamic price)\n",
    "FEE_PER_KWH = 0.3322 # EUR / kWh (brutto), incl. network fee, for fixed price tariff\n",
    "YEARS = [2020, 2021, 2022, 2023, 2024] # consider market prices from these years\n",
    "\n",
    "hourly_cost = {}\n",
    "monthly_cost = {}\n",
    "yearly_cost = {}"
   ]
  },
  {
   "cell_type": "code",
   "execution_count": 20,
   "metadata": {},
   "outputs": [],
   "source": [
    "# Get hourly prices from awattar API\n",
    "begin = datetime.fromisoformat(\"2020-01-01\").timestamp()\n",
    "end = datetime.now().timestamp()\n",
    "# API endpoint URL\n",
    "url = f\"https://api.awattar.de/v1/marketdata?start={int(begin)*1000}&end={int(end)*1000}\"\n",
    "\n",
    "# Fetch JSON data from the API\n",
    "response = requests.get(url)\n",
    "data = response.json()\n",
    "\n",
    "# Convert JSON data to Pandas DataFrame\n",
    "hourly_price = pd.DataFrame(data['data'])\n",
    "\n",
    "hourly_price[\"start\"] = pd.to_datetime(hourly_price[\"start_timestamp\"], unit='ms')\n",
    "hourly_price[\"end\"] = pd.to_datetime(hourly_price[\"end_timestamp\"], unit=\"ms\")\n",
    "hourly_price[\"marketprice\"], hourly_price[\"unit\"] = hourly_price[\"marketprice\"] / 1000, \"EUR/kWh\"\n",
    "hourly_price[\"start_day\"] = hourly_price[\"start\"].dt.strftime(\"%m-%d %H:%M:%S\") # day without year (for inter-year comparison)\n",
    "hourly_price[\"real_price\"] = hourly_price[\"marketprice\"] * VAT + FIXED_FEE_PER_KWH \n",
    "\n",
    "# Load consumption data from table\n",
    "pulses_interval = pd.read_csv(\"./data/verbrauch_2024.csv\")\n",
    "pulses_interval[\"time\"] = pd.to_datetime(pulses_interval[\"time\"])\n",
    "pulses_interval[\"start_day\"] = pulses_interval[\"time\"].dt.strftime(\"%m-%d %H:%M:%S\") # day without year (for inter-year comparison)\n"
   ]
  },
  {
   "cell_type": "code",
   "execution_count": 21,
   "metadata": {},
   "outputs": [
    {
     "name": "stderr",
     "output_type": "stream",
     "text": [
      "/home/sturm/tmp/ipykernel_88651/2624027715.py:16: DeprecationWarning: DataFrameGroupBy.apply operated on the grouping columns. This behavior is deprecated, and in a future version of pandas the grouping columns will be excluded from the operation. Either pass `include_groups=False` to exclude the groupings or explicitly select the grouping columns after groupby to silence this warning.\n",
      "  tmp_monthly_cost = tmp_hourly_cost.groupby([\"meter_name\"]).apply(\n",
      "/home/sturm/tmp/ipykernel_88651/2624027715.py:16: DeprecationWarning: DataFrameGroupBy.apply operated on the grouping columns. This behavior is deprecated, and in a future version of pandas the grouping columns will be excluded from the operation. Either pass `include_groups=False` to exclude the groupings or explicitly select the grouping columns after groupby to silence this warning.\n",
      "  tmp_monthly_cost = tmp_hourly_cost.groupby([\"meter_name\"]).apply(\n",
      "/home/sturm/tmp/ipykernel_88651/2624027715.py:16: DeprecationWarning: DataFrameGroupBy.apply operated on the grouping columns. This behavior is deprecated, and in a future version of pandas the grouping columns will be excluded from the operation. Either pass `include_groups=False` to exclude the groupings or explicitly select the grouping columns after groupby to silence this warning.\n",
      "  tmp_monthly_cost = tmp_hourly_cost.groupby([\"meter_name\"]).apply(\n",
      "/home/sturm/tmp/ipykernel_88651/2624027715.py:16: DeprecationWarning: DataFrameGroupBy.apply operated on the grouping columns. This behavior is deprecated, and in a future version of pandas the grouping columns will be excluded from the operation. Either pass `include_groups=False` to exclude the groupings or explicitly select the grouping columns after groupby to silence this warning.\n",
      "  tmp_monthly_cost = tmp_hourly_cost.groupby([\"meter_name\"]).apply(\n",
      "/home/sturm/tmp/ipykernel_88651/2624027715.py:16: DeprecationWarning: DataFrameGroupBy.apply operated on the grouping columns. This behavior is deprecated, and in a future version of pandas the grouping columns will be excluded from the operation. Either pass `include_groups=False` to exclude the groupings or explicitly select the grouping columns after groupby to silence this warning.\n",
      "  tmp_monthly_cost = tmp_hourly_cost.groupby([\"meter_name\"]).apply(\n"
     ]
    }
   ],
   "source": [
    "# dynamic cost over the years\n",
    "\n",
    "for year in YEARS:\n",
    "    tmp_hourly_price = hourly_price.loc[\n",
    "        lambda x: (x[\"start\"] >= datetime.fromisoformat(f\"{year}-01-01 00:00\"))\n",
    "        & (x[\"end\"] < datetime.fromisoformat(f\"{year+1}-01-01 00:00\"))\n",
    "    ]\n",
    "    tmp_hourly_cost = pulses_interval.merge(\n",
    "        tmp_hourly_price,\n",
    "        how=\"inner\",\n",
    "        validate=\"many_to_one\",\n",
    "        left_on=\"start_day\",\n",
    "        right_on=\"start_day\",\n",
    "    ).assign(cost=lambda x: (x[\"real_price\"] / 1000) * x[\"Wh\"])\n",
    "\n",
    "    tmp_monthly_cost = tmp_hourly_cost.groupby([\"meter_name\"]).apply(\n",
    "        lambda x: x.set_index(\"time\")[\"cost\"].resample(\"MS\").sum()\n",
    "    )\n",
    "    tmp_yearly_cost = (\n",
    "        tmp_hourly_cost.loc[:, [\"meter_name\", \"cost\"]].groupby([\"meter_name\"]).sum()\n",
    "    )\n",
    "\n",
    "    hourly_cost[f\"tado_{year}\"] = tmp_hourly_cost\n",
    "    monthly_cost[f\"tado_{year}\"] = tmp_monthly_cost\n",
    "    yearly_cost[f\"tado_{year}\"] = tmp_yearly_cost"
   ]
  },
  {
   "cell_type": "code",
   "execution_count": 22,
   "metadata": {},
   "outputs": [
    {
     "name": "stderr",
     "output_type": "stream",
     "text": [
      "/home/sturm/tmp/ipykernel_88651/1193435241.py:5: DeprecationWarning: DataFrameGroupBy.apply operated on the grouping columns. This behavior is deprecated, and in a future version of pandas the grouping columns will be excluded from the operation. Either pass `include_groups=False` to exclude the groupings or explicitly select the grouping columns after groupby to silence this warning.\n",
      "  tmp_monthly_cost = tmp_hourly_cost.groupby([\"meter_name\"]).apply(lambda x: x.set_index(\"time\")[\"cost\"].resample(\"MS\").sum())\n"
     ]
    }
   ],
   "source": [
    "# fixed cost\n",
    "tmp_hourly_cost = pulses_interval.merge(hourly_price, how=\"inner\", validate=\"many_to_one\", left_on=\"time\", right_on = \"start\").assign(\n",
    "    cost = lambda x: (x[\"Wh\"] / 1000) * FEE_PER_KWH\n",
    ")\n",
    "tmp_monthly_cost = tmp_hourly_cost.groupby([\"meter_name\"]).apply(lambda x: x.set_index(\"time\")[\"cost\"].resample(\"MS\").sum())\n",
    "tmp_yearly_cost = tmp_hourly_cost.loc[:, [\"meter_name\", \"cost\"]].groupby([\"meter_name\"]).sum()\n",
    "\n",
    "hourly_cost[\"AÜW_2024\"]= tmp_hourly_cost\n",
    "monthly_cost[\"AÜW_2024\"] = tmp_monthly_cost\n",
    "yearly_cost[\"AÜW_2024\"] = tmp_yearly_cost"
   ]
  },
  {
   "cell_type": "code",
   "execution_count": 23,
   "metadata": {},
   "outputs": [],
   "source": [
    "yearly_cost_df =pd.concat([df.assign(tariff=k.split(\"_\")[0]) for k, df in yearly_cost.items() if \"2024\" in k]).sort_values([\"meter_name\", \"tariff\"])"
   ]
  },
  {
   "cell_type": "code",
   "execution_count": 24,
   "metadata": {},
   "outputs": [
    {
     "data": {
      "text/html": [
       "<div>\n",
       "<style scoped>\n",
       "    .dataframe tbody tr th:only-of-type {\n",
       "        vertical-align: middle;\n",
       "    }\n",
       "\n",
       "    .dataframe tbody tr th {\n",
       "        vertical-align: top;\n",
       "    }\n",
       "\n",
       "    .dataframe thead th {\n",
       "        text-align: right;\n",
       "    }\n",
       "</style>\n",
       "<table border=\"1\" class=\"dataframe\">\n",
       "  <thead>\n",
       "    <tr style=\"text-align: right;\">\n",
       "      <th>tariff</th>\n",
       "      <th>AÜW</th>\n",
       "      <th>tado</th>\n",
       "      <th>Ersparnis (EUR)</th>\n",
       "      <th>Ersparnis (%)</th>\n",
       "    </tr>\n",
       "    <tr>\n",
       "      <th>meter_name</th>\n",
       "      <th></th>\n",
       "      <th></th>\n",
       "      <th></th>\n",
       "      <th></th>\n",
       "    </tr>\n",
       "  </thead>\n",
       "  <tbody>\n",
       "    <tr>\n",
       "      <th>Wohnung 1</th>\n",
       "      <td>1138.765654</td>\n",
       "      <td>987.583074</td>\n",
       "      <td>151.182580</td>\n",
       "      <td>13.276005</td>\n",
       "    </tr>\n",
       "    <tr>\n",
       "      <th>Wohnung 2</th>\n",
       "      <td>687.689878</td>\n",
       "      <td>610.250453</td>\n",
       "      <td>77.439425</td>\n",
       "      <td>11.260806</td>\n",
       "    </tr>\n",
       "    <tr>\n",
       "      <th>Wohnung 3</th>\n",
       "      <td>567.212232</td>\n",
       "      <td>502.828976</td>\n",
       "      <td>64.383257</td>\n",
       "      <td>11.350823</td>\n",
       "    </tr>\n",
       "    <tr>\n",
       "      <th>Wohnung 4</th>\n",
       "      <td>172.449671</td>\n",
       "      <td>154.614953</td>\n",
       "      <td>17.834718</td>\n",
       "      <td>10.341984</td>\n",
       "    </tr>\n",
       "  </tbody>\n",
       "</table>\n",
       "</div>"
      ],
      "text/plain": [
       "tariff              AÜW        tado  Ersparnis (EUR)  Ersparnis (%)\n",
       "meter_name                                                         \n",
       "Wohnung 1   1138.765654  987.583074       151.182580      13.276005\n",
       "Wohnung 2    687.689878  610.250453        77.439425      11.260806\n",
       "Wohnung 3    567.212232  502.828976        64.383257      11.350823\n",
       "Wohnung 4    172.449671  154.614953        17.834718      10.341984"
      ]
     },
     "execution_count": 24,
     "metadata": {},
     "output_type": "execute_result"
    }
   ],
   "source": [
    "yearly_cost_df.pivot_table(values=\"cost\", columns=\"tariff\", index=\"meter_name\").assign(\n",
    "    **{\n",
    "        \"Ersparnis (EUR)\": lambda x: -(x[\"tado\"] - x[\"AÜW\"]),\n",
    "        \"Ersparnis (%)\": lambda x: (1 - x[\"tado\"] / x[\"AÜW\"]) * 100,\n",
    "    }\n",
    ")"
   ]
  },
  {
   "cell_type": "code",
   "execution_count": 26,
   "metadata": {},
   "outputs": [],
   "source": [
    "monthly_cost_df = (\n",
    "    pd.concat([df.assign(tariff=k.split(\"_\")[0]) for k, df in monthly_cost.items() if \"2024\" in k])\n",
    "    .sort_values([\"meter_name\", \"tariff\"])\n",
    "    .reset_index()\n",
    "    .melt([\"meter_name\", \"tariff\"], value_name=\"cost\")\n",
    "    .assign(month=lambda x: pd.to_datetime(x[\"time\"]).dt.month_name(locale=\"de_DE.utf8\"))\n",
    "    .assign(month=lambda x: pd.Categorical(x[\"month\"], categories=x[\"month\"].unique()))\n",
    ")"
   ]
  },
  {
   "cell_type": "code",
   "execution_count": 27,
   "metadata": {},
   "outputs": [
    {
     "data": {},
     "metadata": {},
     "output_type": "display_data"
    },
    {
     "data": {
      "application/vnd.holoviews_exec.v0+json": "",
      "text/html": [
       "<div id='4289b809-b044-4aff-ba35-56feee8a2168'>\n",
       "  <div id=\"e7faa2c8-e563-43a8-aa52-4a578dfd7817\" data-root-id=\"4289b809-b044-4aff-ba35-56feee8a2168\" style=\"display: contents;\"></div>\n",
       "</div>\n",
       "<script type=\"application/javascript\">(function(root) {\n",
       "  var docs_json = {\"058dcc9a-e641-48f0-a304-8b979212fa07\":{\"version\":\"3.6.2\",\"title\":\"Bokeh Application\",\"roots\":[{\"type\":\"object\",\"name\":\"Row\",\"id\":\"4289b809-b044-4aff-ba35-56feee8a2168\",\"attributes\":{\"name\":\"Row03640\",\"tags\":[\"embedded\"],\"stylesheets\":[\"\\n:host(.pn-loading):before, .pn-loading:before {\\n  background-color: #c3c3c3;\\n  mask-size: auto calc(min(50%, 400px));\\n  -webkit-mask-size: auto calc(min(50%, 400px));\\n}\",{\"type\":\"object\",\"name\":\"ImportedStyleSheet\",\"id\":\"9cb452cc-26f9-4ead-8dcf-43ab351d6216\",\"attributes\":{\"url\":\"https://cdn.holoviz.org/panel/1.5.5/dist/css/loading.css\"}},{\"type\":\"object\",\"name\":\"ImportedStyleSheet\",\"id\":\"36fd8aec-5d15-48b0-aca1-693f8821763c\",\"attributes\":{\"url\":\"https://cdn.holoviz.org/panel/1.5.5/dist/css/listpanel.css\"}},{\"type\":\"object\",\"name\":\"ImportedStyleSheet\",\"id\":\"05723a18-2775-4c71-afc4-76b8e99de5e3\",\"attributes\":{\"url\":\"https://cdn.holoviz.org/panel/1.5.5/dist/bundled/theme/default.css\"}},{\"type\":\"object\",\"name\":\"ImportedStyleSheet\",\"id\":\"b2bc2dd7-bca3-4370-893f-ee8ef5b9be3e\",\"attributes\":{\"url\":\"https://cdn.holoviz.org/panel/1.5.5/dist/bundled/theme/native.css\"}}],\"min_width\":750,\"margin\":0,\"sizing_mode\":\"stretch_width\",\"align\":\"start\",\"children\":[{\"type\":\"object\",\"name\":\"Spacer\",\"id\":\"fad37f83-a526-4265-8d0f-8a8f133c8f67\",\"attributes\":{\"name\":\"HSpacer03648\",\"stylesheets\":[\"\\n:host(.pn-loading):before, .pn-loading:before {\\n  background-color: #c3c3c3;\\n  mask-size: auto calc(min(50%, 400px));\\n  -webkit-mask-size: auto calc(min(50%, 400px));\\n}\",{\"id\":\"9cb452cc-26f9-4ead-8dcf-43ab351d6216\"},{\"id\":\"05723a18-2775-4c71-afc4-76b8e99de5e3\"},{\"id\":\"b2bc2dd7-bca3-4370-893f-ee8ef5b9be3e\"}],\"margin\":0,\"sizing_mode\":\"stretch_width\",\"align\":\"start\"}},{\"type\":\"object\",\"name\":\"Figure\",\"id\":\"0c201ed8-c2cd-45ac-9310-c398e94de09b\",\"attributes\":{\"width\":750,\"height\":300,\"margin\":[5,10],\"sizing_mode\":\"fixed\",\"align\":\"start\",\"x_range\":{\"type\":\"object\",\"name\":\"FactorRange\",\"id\":\"099a9c9e-47d0-4fda-af61-0361cc5a70fb\",\"attributes\":{\"tags\":[[[\"month\",null],[\"tariff\",null]],[]],\"factors\":[[\"Januar\",\"A\\u00dcW\"],[\"Januar\",\"tado\"],[\"Februar\",\"A\\u00dcW\"],[\"Februar\",\"tado\"],[\"M\\u00e4rz\",\"A\\u00dcW\"],[\"M\\u00e4rz\",\"tado\"],[\"April\",\"A\\u00dcW\"],[\"April\",\"tado\"],[\"Mai\",\"A\\u00dcW\"],[\"Mai\",\"tado\"],[\"Juni\",\"A\\u00dcW\"],[\"Juni\",\"tado\"],[\"Juli\",\"A\\u00dcW\"],[\"Juli\",\"tado\"],[\"August\",\"A\\u00dcW\"],[\"August\",\"tado\"],[\"September\",\"A\\u00dcW\"],[\"September\",\"tado\"],[\"Oktober\",\"A\\u00dcW\"],[\"Oktober\",\"tado\"],[\"November\",\"A\\u00dcW\"],[\"November\",\"tado\"],[\"Dezember\",\"A\\u00dcW\"],[\"Dezember\",\"tado\"]]}},\"y_range\":{\"type\":\"object\",\"name\":\"Range1d\",\"id\":\"21758e49-6cd3-4ddb-92e3-7402bf572c31\",\"attributes\":{\"name\":\"cost\",\"tags\":[[[\"cost\",null]],{\"type\":\"map\",\"entries\":[[\"invert_yaxis\",false],[\"autorange\",false]]}],\"end\":124.51321067645,\"reset_start\":0.0,\"reset_end\":124.51321067645}},\"x_scale\":{\"type\":\"object\",\"name\":\"CategoricalScale\",\"id\":\"4f3ca2d2-339b-49cb-a6df-c405bbaebaea\"},\"y_scale\":{\"type\":\"object\",\"name\":\"LinearScale\",\"id\":\"ce90e100-2949-4769-94a5-df9ea2c2bd23\"},\"title\":{\"type\":\"object\",\"name\":\"Title\",\"id\":\"370456e3-3aae-4ee8-9ea2-95cbfcc068a0\",\"attributes\":{\"text\":\"meter_name: Wohnung 1\",\"text_color\":\"black\",\"text_font_size\":\"12pt\"}},\"renderers\":[{\"type\":\"object\",\"name\":\"GlyphRenderer\",\"id\":\"aaf9e85e-cb9f-41a0-9959-79af72c9c048\",\"attributes\":{\"data_source\":{\"type\":\"object\",\"name\":\"ColumnDataSource\",\"id\":\"ad54b8e9-b93f-49f5-8c79-a2cfef699c81\",\"attributes\":{\"selected\":{\"type\":\"object\",\"name\":\"Selection\",\"id\":\"fa88497a-0f51-4b30-b545-2cd007fe29bd\",\"attributes\":{\"indices\":[],\"line_indices\":[]}},\"selection_policy\":{\"type\":\"object\",\"name\":\"UnionRenderers\",\"id\":\"2dc35fa2-f972-4f7d-93b7-c6013226b34e\"},\"data\":{\"type\":\"map\",\"entries\":[[\"xoffsets\",[[\"Januar\",\"A\\u00dcW\"],[\"Februar\",\"A\\u00dcW\"],[\"M\\u00e4rz\",\"A\\u00dcW\"],[\"April\",\"A\\u00dcW\"],[\"Mai\",\"A\\u00dcW\"],[\"Juni\",\"A\\u00dcW\"],[\"Juli\",\"A\\u00dcW\"],[\"August\",\"A\\u00dcW\"],[\"September\",\"A\\u00dcW\"],[\"Oktober\",\"A\\u00dcW\"],[\"November\",\"A\\u00dcW\"],[\"Dezember\",\"A\\u00dcW\"],[\"Januar\",\"tado\"],[\"Februar\",\"tado\"],[\"M\\u00e4rz\",\"tado\"],[\"April\",\"tado\"],[\"Mai\",\"tado\"],[\"Juni\",\"tado\"],[\"Juli\",\"tado\"],[\"August\",\"tado\"],[\"September\",\"tado\"],[\"Oktober\",\"tado\"],[\"November\",\"tado\"],[\"Dezember\",\"tado\"]]],[\"cost\",{\"type\":\"ndarray\",\"array\":{\"type\":\"bytes\",\"data\":\"g94bQwCUVEAaQK7Dh9JVQHeM4aBz7VlAVQIYhRMZWEDi9ORQdcRXQDu3GiMjG1dA2Vn0TgVpW0BOd0O/WxNZQHP+3IYHc1dAH8gw3dpdWEC7e4Duy/5WQHuVxnlJGFZARxSA5v/KUUA6Y5nviYJRQAvs/uh8zlRAmg+yKu62U0B1QD6bv5JTQBFIbCy2PlRAZyTGW2x2VkCwCPT8L7ZVQEf+MvHt4VNAXobKOSTJVUBBCChTLPlWQO3uSI8LcFZA\"},\"shape\":[24],\"dtype\":\"float64\",\"order\":\"little\"}],[\"tariff\",[\"A\\u00dcW\",\"A\\u00dcW\",\"A\\u00dcW\",\"A\\u00dcW\",\"A\\u00dcW\",\"A\\u00dcW\",\"A\\u00dcW\",\"A\\u00dcW\",\"A\\u00dcW\",\"A\\u00dcW\",\"A\\u00dcW\",\"A\\u00dcW\",\"tado\",\"tado\",\"tado\",\"tado\",\"tado\",\"tado\",\"tado\",\"tado\",\"tado\",\"tado\",\"tado\",\"tado\"]]]}}},\"view\":{\"type\":\"object\",\"name\":\"CDSView\",\"id\":\"d21fe365-aaa5-4560-8d8a-3efead49f660\",\"attributes\":{\"filter\":{\"type\":\"object\",\"name\":\"AllIndices\",\"id\":\"83790f11-52c2-4877-911b-da7de4675052\"}}},\"glyph\":{\"type\":\"object\",\"name\":\"VBar\",\"id\":\"19f28e8f-0d22-4d79-8dd5-9cd66eeadebb\",\"attributes\":{\"tags\":[\"apply_ranges\"],\"x\":{\"type\":\"field\",\"field\":\"xoffsets\"},\"width\":{\"type\":\"value\",\"value\":0.8},\"top\":{\"type\":\"field\",\"field\":\"cost\"},\"fill_color\":{\"type\":\"field\",\"field\":\"tariff\",\"transform\":{\"type\":\"object\",\"name\":\"CategoricalColorMapper\",\"id\":\"9373af49-7b88-4c3f-84ed-4f93242d924b\",\"attributes\":{\"palette\":[\"#30a2da\",\"#fc4f30\"],\"factors\":[\"A\\u00dcW\",\"tado\"]}}},\"hatch_color\":{\"type\":\"field\",\"field\":\"tariff\",\"transform\":{\"id\":\"9373af49-7b88-4c3f-84ed-4f93242d924b\"}}}},\"selection_glyph\":{\"type\":\"object\",\"name\":\"VBar\",\"id\":\"7ccbf5cf-8ffa-4211-96f6-fbbbbd824f0d\",\"attributes\":{\"tags\":[\"apply_ranges\"],\"x\":{\"type\":\"field\",\"field\":\"xoffsets\"},\"width\":{\"type\":\"value\",\"value\":0.8},\"bottom\":{\"type\":\"value\",\"value\":0},\"top\":{\"type\":\"field\",\"field\":\"cost\"},\"line_color\":{\"type\":\"value\",\"value\":\"black\"},\"line_alpha\":{\"type\":\"value\",\"value\":1.0},\"line_width\":{\"type\":\"value\",\"value\":1},\"line_join\":{\"type\":\"value\",\"value\":\"bevel\"},\"line_cap\":{\"type\":\"value\",\"value\":\"butt\"},\"line_dash\":{\"type\":\"value\",\"value\":[]},\"line_dash_offset\":{\"type\":\"value\",\"value\":0},\"fill_color\":{\"type\":\"field\",\"field\":\"tariff\",\"transform\":{\"id\":\"9373af49-7b88-4c3f-84ed-4f93242d924b\"}},\"fill_alpha\":{\"type\":\"value\",\"value\":1.0},\"hatch_color\":{\"type\":\"field\",\"field\":\"tariff\",\"transform\":{\"id\":\"9373af49-7b88-4c3f-84ed-4f93242d924b\"}},\"hatch_alpha\":{\"type\":\"value\",\"value\":1.0},\"hatch_scale\":{\"type\":\"value\",\"value\":12.0},\"hatch_pattern\":{\"type\":\"value\",\"value\":null},\"hatch_weight\":{\"type\":\"value\",\"value\":1.0}}},\"nonselection_glyph\":{\"type\":\"object\",\"name\":\"VBar\",\"id\":\"16a64324-aec2-4fc9-9b0c-e7f30326b963\",\"attributes\":{\"tags\":[\"apply_ranges\"],\"x\":{\"type\":\"field\",\"field\":\"xoffsets\"},\"width\":{\"type\":\"value\",\"value\":0.8},\"top\":{\"type\":\"field\",\"field\":\"cost\"},\"line_alpha\":{\"type\":\"value\",\"value\":0.1},\"fill_color\":{\"type\":\"field\",\"field\":\"tariff\",\"transform\":{\"id\":\"9373af49-7b88-4c3f-84ed-4f93242d924b\"}},\"fill_alpha\":{\"type\":\"value\",\"value\":0.1},\"hatch_color\":{\"type\":\"field\",\"field\":\"tariff\",\"transform\":{\"id\":\"9373af49-7b88-4c3f-84ed-4f93242d924b\"}},\"hatch_alpha\":{\"type\":\"value\",\"value\":0.1}}},\"muted_glyph\":{\"type\":\"object\",\"name\":\"VBar\",\"id\":\"baf8a70d-d814-407b-b73a-11e6fc7048ab\",\"attributes\":{\"tags\":[\"apply_ranges\"],\"x\":{\"type\":\"field\",\"field\":\"xoffsets\"},\"width\":{\"type\":\"value\",\"value\":0.8},\"top\":{\"type\":\"field\",\"field\":\"cost\"},\"line_alpha\":{\"type\":\"value\",\"value\":0.2},\"fill_color\":{\"type\":\"field\",\"field\":\"tariff\",\"transform\":{\"id\":\"9373af49-7b88-4c3f-84ed-4f93242d924b\"}},\"fill_alpha\":{\"type\":\"value\",\"value\":0.2},\"hatch_color\":{\"type\":\"field\",\"field\":\"tariff\",\"transform\":{\"id\":\"9373af49-7b88-4c3f-84ed-4f93242d924b\"}},\"hatch_alpha\":{\"type\":\"value\",\"value\":0.2}}}}}],\"toolbar\":{\"type\":\"object\",\"name\":\"Toolbar\",\"id\":\"59c95209-f1a7-48ad-a215-0bdb5be044a0\",\"attributes\":{\"tools\":[{\"type\":\"object\",\"name\":\"WheelZoomTool\",\"id\":\"434a86f5-efee-4bf2-baef-fa25b64b2c78\",\"attributes\":{\"tags\":[\"hv_created\"],\"renderers\":\"auto\",\"zoom_together\":\"none\"}},{\"type\":\"object\",\"name\":\"SaveTool\",\"id\":\"a92d9726-5805-4ab0-b874-c60f8bfdd0af\"},{\"type\":\"object\",\"name\":\"PanTool\",\"id\":\"3b48541a-d200-40a2-b92c-7b458cd48dcf\"},{\"type\":\"object\",\"name\":\"BoxZoomTool\",\"id\":\"23a67ae8-0ab3-4d95-b4bd-cbf659be59a9\",\"attributes\":{\"overlay\":{\"type\":\"object\",\"name\":\"BoxAnnotation\",\"id\":\"2a9cc9c1-8494-4fec-9803-5969c6f154da\",\"attributes\":{\"syncable\":false,\"line_color\":\"black\",\"line_alpha\":1.0,\"line_width\":2,\"line_dash\":[4,4],\"fill_color\":\"lightgrey\",\"fill_alpha\":0.5,\"level\":\"overlay\",\"visible\":false,\"left\":{\"type\":\"number\",\"value\":\"nan\"},\"right\":{\"type\":\"number\",\"value\":\"nan\"},\"top\":{\"type\":\"number\",\"value\":\"nan\"},\"bottom\":{\"type\":\"number\",\"value\":\"nan\"},\"left_units\":\"canvas\",\"right_units\":\"canvas\",\"top_units\":\"canvas\",\"bottom_units\":\"canvas\",\"handles\":{\"type\":\"object\",\"name\":\"BoxInteractionHandles\",\"id\":\"7510d653-d36e-40b2-8371-76346e0367f7\",\"attributes\":{\"all\":{\"type\":\"object\",\"name\":\"AreaVisuals\",\"id\":\"0fec3ae2-51b3-48e7-b6b2-ac9df16c72d0\",\"attributes\":{\"fill_color\":\"white\",\"hover_fill_color\":\"lightgray\"}}}}}}}},{\"type\":\"object\",\"name\":\"ResetTool\",\"id\":\"803cca95-931e-426c-b86d-90e83a60d481\"}],\"active_drag\":{\"id\":\"3b48541a-d200-40a2-b92c-7b458cd48dcf\"},\"active_scroll\":{\"id\":\"434a86f5-efee-4bf2-baef-fa25b64b2c78\"}}},\"left\":[{\"type\":\"object\",\"name\":\"LinearAxis\",\"id\":\"30ef7fcf-3c36-412f-a8df-5af56a120849\",\"attributes\":{\"ticker\":{\"type\":\"object\",\"name\":\"BasicTicker\",\"id\":\"7d8cf57c-ac89-4c11-b9ae-f81f11dcc6d7\",\"attributes\":{\"mantissas\":[1,2,5]}},\"formatter\":{\"type\":\"object\",\"name\":\"BasicTickFormatter\",\"id\":\"f58f09f4-2d56-4644-a19d-9a37cc10053b\"},\"axis_label\":\"cost\",\"major_label_policy\":{\"type\":\"object\",\"name\":\"AllLabels\",\"id\":\"3c5ad077-ea55-4bf8-8de2-211a1cfcc17d\"}}}],\"below\":[{\"type\":\"object\",\"name\":\"CategoricalAxis\",\"id\":\"fc4de786-c505-48b3-b89a-9c525bffc726\",\"attributes\":{\"ticker\":{\"type\":\"object\",\"name\":\"CategoricalTicker\",\"id\":\"c9822403-7711-4493-a038-1b68f96ed078\"},\"formatter\":{\"type\":\"object\",\"name\":\"CategoricalTickFormatter\",\"id\":\"ee8086ac-c1e8-4e07-93a5-8f7acee56485\"},\"axis_label\":\"month, tariff\",\"major_label_orientation\":1.5707963267948966,\"major_label_policy\":{\"type\":\"object\",\"name\":\"AllLabels\",\"id\":\"5ff14b74-435b-427a-9c29-98a9243b7158\"}}}],\"center\":[{\"type\":\"object\",\"name\":\"Grid\",\"id\":\"a7e884c4-ac1d-40d0-bcc5-ae8593a54ccf\",\"attributes\":{\"axis\":{\"id\":\"fc4de786-c505-48b3-b89a-9c525bffc726\"},\"grid_line_color\":null}},{\"type\":\"object\",\"name\":\"Grid\",\"id\":\"a13cb3c9-7f33-4c20-b806-04b0f3bc8286\",\"attributes\":{\"dimension\":1,\"axis\":{\"id\":\"30ef7fcf-3c36-412f-a8df-5af56a120849\"},\"grid_line_color\":null}}],\"min_border_top\":10,\"min_border_bottom\":10,\"min_border_left\":10,\"min_border_right\":10,\"output_backend\":\"webgl\",\"hold_render\":false}},{\"type\":\"object\",\"name\":\"Spacer\",\"id\":\"817bcd50-175c-40fe-a6fe-78e901ee385e\",\"attributes\":{\"name\":\"HSpacer03649\",\"stylesheets\":[\"\\n:host(.pn-loading):before, .pn-loading:before {\\n  background-color: #c3c3c3;\\n  mask-size: auto calc(min(50%, 400px));\\n  -webkit-mask-size: auto calc(min(50%, 400px));\\n}\",{\"id\":\"9cb452cc-26f9-4ead-8dcf-43ab351d6216\"},{\"id\":\"05723a18-2775-4c71-afc4-76b8e99de5e3\"},{\"id\":\"b2bc2dd7-bca3-4370-893f-ee8ef5b9be3e\"}],\"margin\":0,\"sizing_mode\":\"stretch_width\",\"align\":\"start\"}},{\"type\":\"object\",\"name\":\"panel.models.layout.Column\",\"id\":\"d70f72eb-b532-4a1a-969e-ee4195f42133\",\"attributes\":{\"name\":\"WidgetBox03641\",\"css_classes\":[\"panel-widget-box\"],\"stylesheets\":[\"\\n:host(.pn-loading):before, .pn-loading:before {\\n  background-color: #c3c3c3;\\n  mask-size: auto calc(min(50%, 400px));\\n  -webkit-mask-size: auto calc(min(50%, 400px));\\n}\",{\"id\":\"9cb452cc-26f9-4ead-8dcf-43ab351d6216\"},{\"type\":\"object\",\"name\":\"ImportedStyleSheet\",\"id\":\"dbdcd59e-ac15-413f-9d1c-515502052956\",\"attributes\":{\"url\":\"https://cdn.holoviz.org/panel/1.5.5/dist/css/widgetbox.css\"}},{\"id\":\"36fd8aec-5d15-48b0-aca1-693f8821763c\"},{\"id\":\"05723a18-2775-4c71-afc4-76b8e99de5e3\"},{\"id\":\"b2bc2dd7-bca3-4370-893f-ee8ef5b9be3e\"}],\"margin\":0,\"align\":[\"end\",\"center\"],\"children\":[{\"type\":\"object\",\"name\":\"panel.models.widgets.CustomSelect\",\"id\":\"5c7bbd74-4ad4-418f-b049-42e93eee3311\",\"attributes\":{\"js_property_callbacks\":{\"type\":\"map\",\"entries\":[[\"change:value\",[{\"type\":\"object\",\"name\":\"CustomJS\",\"id\":\"379ee00e-2467-48ee-a0ba-f413eb7faf38\",\"attributes\":{\"code\":\"\\nvar state = null\\nfor (var root of cb_obj.document.roots()) {\\n  if (root.id == '86211d4a-c840-498f-96cb-5b20549be651') {\\n    state = root;\\n    break;\\n  }\\n}\\nif (!state) { return; }\\nstate.set_state(cb_obj, cb_obj.value)\\n\"}}]]]},\"stylesheets\":[\"\\n:host(.pn-loading):before, .pn-loading:before {\\n  background-color: #c3c3c3;\\n  mask-size: auto calc(min(50%, 400px));\\n  -webkit-mask-size: auto calc(min(50%, 400px));\\n}\",{\"id\":\"9cb452cc-26f9-4ead-8dcf-43ab351d6216\"},{\"type\":\"object\",\"name\":\"ImportedStyleSheet\",\"id\":\"86c6e94a-6f48-4251-8df8-7d91d93e39d6\",\"attributes\":{\"url\":\"https://cdn.holoviz.org/panel/1.5.5/dist/css/select.css\"}},{\"id\":\"05723a18-2775-4c71-afc4-76b8e99de5e3\"},{\"id\":\"b2bc2dd7-bca3-4370-893f-ee8ef5b9be3e\"}],\"width\":300,\"min_width\":300,\"margin\":[5,10],\"align\":\"start\",\"title\":\"meter_name\",\"options\":[\"Wohnung 1\",\"Wohnung 2\",\"Wohnung 3\",\"Wohnung 4\"],\"value\":\"Wohnung 1\"}}]}}]}},{\"type\":\"object\",\"name\":\"panel.models.state.State\",\"id\":\"86211d4a-c840-498f-96cb-5b20549be651\",\"attributes\":{\"state\":{\"type\":\"map\",\"entries\":[[\"Wohnung 4\",{\"type\":\"map\",\"entries\":[[\"header\",\"{\\\"msgid\\\": \\\"175530a8-5d3b-4441-8f62-b2a4e0ea99f7\\\", \\\"msgtype\\\": \\\"PATCH-DOC\\\"}\"],[\"metadata\",\"{\\\"use_buffers\\\": false}\"],[\"content\",\"{\\\"events\\\":[{\\\"kind\\\":\\\"ModelChanged\\\",\\\"model\\\":{\\\"id\\\":\\\"0c201ed8-c2cd-45ac-9310-c398e94de09b\\\"},\\\"attr\\\":\\\"hold_render\\\",\\\"new\\\":false},{\\\"kind\\\":\\\"ModelChanged\\\",\\\"model\\\":{\\\"id\\\":\\\"370456e3-3aae-4ee8-9ea2-95cbfcc068a0\\\"},\\\"attr\\\":\\\"text\\\",\\\"new\\\":\\\"meter_name: Wohnung 4\\\"},{\\\"kind\\\":\\\"ColumnDataChanged\\\",\\\"model\\\":{\\\"id\\\":\\\"ad54b8e9-b93f-49f5-8c79-a2cfef699c81\\\"},\\\"attr\\\":\\\"data\\\",\\\"data\\\":{\\\"type\\\":\\\"map\\\",\\\"entries\\\":[[\\\"xoffsets\\\",[[\\\"Januar\\\",\\\"A\\\\u00dcW\\\"],[\\\"Februar\\\",\\\"A\\\\u00dcW\\\"],[\\\"M\\\\u00e4rz\\\",\\\"A\\\\u00dcW\\\"],[\\\"April\\\",\\\"A\\\\u00dcW\\\"],[\\\"Mai\\\",\\\"A\\\\u00dcW\\\"],[\\\"Juni\\\",\\\"A\\\\u00dcW\\\"],[\\\"Juli\\\",\\\"A\\\\u00dcW\\\"],[\\\"August\\\",\\\"A\\\\u00dcW\\\"],[\\\"September\\\",\\\"A\\\\u00dcW\\\"],[\\\"Oktober\\\",\\\"A\\\\u00dcW\\\"],[\\\"November\\\",\\\"A\\\\u00dcW\\\"],[\\\"Dezember\\\",\\\"A\\\\u00dcW\\\"],[\\\"Januar\\\",\\\"tado\\\"],[\\\"Februar\\\",\\\"tado\\\"],[\\\"M\\\\u00e4rz\\\",\\\"tado\\\"],[\\\"April\\\",\\\"tado\\\"],[\\\"Mai\\\",\\\"tado\\\"],[\\\"Juni\\\",\\\"tado\\\"],[\\\"Juli\\\",\\\"tado\\\"],[\\\"August\\\",\\\"tado\\\"],[\\\"September\\\",\\\"tado\\\"],[\\\"Oktober\\\",\\\"tado\\\"],[\\\"November\\\",\\\"tado\\\"],[\\\"Dezember\\\",\\\"tado\\\"]]],[\\\"tariff\\\",[\\\"A\\\\u00dcW\\\",\\\"A\\\\u00dcW\\\",\\\"A\\\\u00dcW\\\",\\\"A\\\\u00dcW\\\",\\\"A\\\\u00dcW\\\",\\\"A\\\\u00dcW\\\",\\\"A\\\\u00dcW\\\",\\\"A\\\\u00dcW\\\",\\\"A\\\\u00dcW\\\",\\\"A\\\\u00dcW\\\",\\\"A\\\\u00dcW\\\",\\\"A\\\\u00dcW\\\",\\\"tado\\\",\\\"tado\\\",\\\"tado\\\",\\\"tado\\\",\\\"tado\\\",\\\"tado\\\",\\\"tado\\\",\\\"tado\\\",\\\"tado\\\",\\\"tado\\\",\\\"tado\\\",\\\"tado\\\"]],[\\\"cost\\\",{\\\"type\\\":\\\"ndarray\\\",\\\"array\\\":{\\\"type\\\":\\\"bytes\\\",\\\"data\\\":\\\"/OSD+Ya9F0CbWhGQioolQCMePwqNdhFAILOz6J1aE0D3LL5XY3VGQDGUE+0qNBxAG4F4Xb8gJUBfg3Rn3DoZQAdiNIaU6hhA2ZPA5hxITkBh1WpZCNwUQDAa6JCKxRZAL8TPXyYqF0C7HswuH4AhQK4wHz4gjg1AZam4G4u8D0C8T8TQWWREQG/UMwkK+BdA7ir6/F12IUAa+AjuJEYSQEye3ohPRBNAngpSTs9TTED+HZxT+okVQCaAFfp96xVA\\\"},\\\"shape\\\":[24],\\\"dtype\\\":\\\"float64\\\",\\\"order\\\":\\\"little\\\"}]]},\\\"cols\\\":[\\\"xoffsets\\\",\\\"tariff\\\",\\\"cost\\\"]},{\\\"kind\\\":\\\"ColumnDataChanged\\\",\\\"model\\\":{\\\"id\\\":\\\"ad54b8e9-b93f-49f5-8c79-a2cfef699c81\\\"},\\\"attr\\\":\\\"data\\\",\\\"data\\\":{\\\"type\\\":\\\"map\\\",\\\"entries\\\":[[\\\"xoffsets\\\",[[\\\"Januar\\\",\\\"A\\\\u00dcW\\\"],[\\\"Februar\\\",\\\"A\\\\u00dcW\\\"],[\\\"M\\\\u00e4rz\\\",\\\"A\\\\u00dcW\\\"],[\\\"April\\\",\\\"A\\\\u00dcW\\\"],[\\\"Mai\\\",\\\"A\\\\u00dcW\\\"],[\\\"Juni\\\",\\\"A\\\\u00dcW\\\"],[\\\"Juli\\\",\\\"A\\\\u00dcW\\\"],[\\\"August\\\",\\\"A\\\\u00dcW\\\"],[\\\"September\\\",\\\"A\\\\u00dcW\\\"],[\\\"Oktober\\\",\\\"A\\\\u00dcW\\\"],[\\\"November\\\",\\\"A\\\\u00dcW\\\"],[\\\"Dezember\\\",\\\"A\\\\u00dcW\\\"],[\\\"Januar\\\",\\\"tado\\\"],[\\\"Februar\\\",\\\"tado\\\"],[\\\"M\\\\u00e4rz\\\",\\\"tado\\\"],[\\\"April\\\",\\\"tado\\\"],[\\\"Mai\\\",\\\"tado\\\"],[\\\"Juni\\\",\\\"tado\\\"],[\\\"Juli\\\",\\\"tado\\\"],[\\\"August\\\",\\\"tado\\\"],[\\\"September\\\",\\\"tado\\\"],[\\\"Oktober\\\",\\\"tado\\\"],[\\\"November\\\",\\\"tado\\\"],[\\\"Dezember\\\",\\\"tado\\\"]]]]},\\\"cols\\\":[\\\"xoffsets\\\"]},{\\\"kind\\\":\\\"ColumnDataChanged\\\",\\\"model\\\":{\\\"id\\\":\\\"ad54b8e9-b93f-49f5-8c79-a2cfef699c81\\\"},\\\"attr\\\":\\\"data\\\",\\\"data\\\":{\\\"type\\\":\\\"map\\\",\\\"entries\\\":[[\\\"tariff\\\",[\\\"A\\\\u00dcW\\\",\\\"A\\\\u00dcW\\\",\\\"A\\\\u00dcW\\\",\\\"A\\\\u00dcW\\\",\\\"A\\\\u00dcW\\\",\\\"A\\\\u00dcW\\\",\\\"A\\\\u00dcW\\\",\\\"A\\\\u00dcW\\\",\\\"A\\\\u00dcW\\\",\\\"A\\\\u00dcW\\\",\\\"A\\\\u00dcW\\\",\\\"A\\\\u00dcW\\\",\\\"tado\\\",\\\"tado\\\",\\\"tado\\\",\\\"tado\\\",\\\"tado\\\",\\\"tado\\\",\\\"tado\\\",\\\"tado\\\",\\\"tado\\\",\\\"tado\\\",\\\"tado\\\",\\\"tado\\\"]]]},\\\"cols\\\":[\\\"tariff\\\"]}]}\"]]}],[\"Wohnung 3\",{\"type\":\"map\",\"entries\":[[\"header\",\"{\\\"msgid\\\": \\\"53c5e197-51da-43f9-8761-ecd7af91131e\\\", \\\"msgtype\\\": \\\"PATCH-DOC\\\"}\"],[\"metadata\",\"{\\\"use_buffers\\\": false}\"],[\"content\",\"{\\\"events\\\":[{\\\"kind\\\":\\\"ModelChanged\\\",\\\"model\\\":{\\\"id\\\":\\\"0c201ed8-c2cd-45ac-9310-c398e94de09b\\\"},\\\"attr\\\":\\\"hold_render\\\",\\\"new\\\":false},{\\\"kind\\\":\\\"ModelChanged\\\",\\\"model\\\":{\\\"id\\\":\\\"370456e3-3aae-4ee8-9ea2-95cbfcc068a0\\\"},\\\"attr\\\":\\\"text\\\",\\\"new\\\":\\\"meter_name: Wohnung 3\\\"},{\\\"kind\\\":\\\"ColumnDataChanged\\\",\\\"model\\\":{\\\"id\\\":\\\"ad54b8e9-b93f-49f5-8c79-a2cfef699c81\\\"},\\\"attr\\\":\\\"data\\\",\\\"data\\\":{\\\"type\\\":\\\"map\\\",\\\"entries\\\":[[\\\"xoffsets\\\",[[\\\"Januar\\\",\\\"A\\\\u00dcW\\\"],[\\\"Februar\\\",\\\"A\\\\u00dcW\\\"],[\\\"M\\\\u00e4rz\\\",\\\"A\\\\u00dcW\\\"],[\\\"April\\\",\\\"A\\\\u00dcW\\\"],[\\\"Mai\\\",\\\"A\\\\u00dcW\\\"],[\\\"Juni\\\",\\\"A\\\\u00dcW\\\"],[\\\"Juli\\\",\\\"A\\\\u00dcW\\\"],[\\\"August\\\",\\\"A\\\\u00dcW\\\"],[\\\"September\\\",\\\"A\\\\u00dcW\\\"],[\\\"Oktober\\\",\\\"A\\\\u00dcW\\\"],[\\\"November\\\",\\\"A\\\\u00dcW\\\"],[\\\"Dezember\\\",\\\"A\\\\u00dcW\\\"],[\\\"Januar\\\",\\\"tado\\\"],[\\\"Februar\\\",\\\"tado\\\"],[\\\"M\\\\u00e4rz\\\",\\\"tado\\\"],[\\\"April\\\",\\\"tado\\\"],[\\\"Mai\\\",\\\"tado\\\"],[\\\"Juni\\\",\\\"tado\\\"],[\\\"Juli\\\",\\\"tado\\\"],[\\\"August\\\",\\\"tado\\\"],[\\\"September\\\",\\\"tado\\\"],[\\\"Oktober\\\",\\\"tado\\\"],[\\\"November\\\",\\\"tado\\\"],[\\\"Dezember\\\",\\\"tado\\\"]]],[\\\"tariff\\\",[\\\"A\\\\u00dcW\\\",\\\"A\\\\u00dcW\\\",\\\"A\\\\u00dcW\\\",\\\"A\\\\u00dcW\\\",\\\"A\\\\u00dcW\\\",\\\"A\\\\u00dcW\\\",\\\"A\\\\u00dcW\\\",\\\"A\\\\u00dcW\\\",\\\"A\\\\u00dcW\\\",\\\"A\\\\u00dcW\\\",\\\"A\\\\u00dcW\\\",\\\"A\\\\u00dcW\\\",\\\"tado\\\",\\\"tado\\\",\\\"tado\\\",\\\"tado\\\",\\\"tado\\\",\\\"tado\\\",\\\"tado\\\",\\\"tado\\\",\\\"tado\\\",\\\"tado\\\",\\\"tado\\\",\\\"tado\\\"]],[\\\"cost\\\",{\\\"type\\\":\\\"ndarray\\\",\\\"array\\\":{\\\"type\\\":\\\"bytes\\\",\\\"data\\\":\\\"y1Hb4Qq5SEBd+GZAYvZLQHkbQGQ2ZUlAACfKlMWLQ0CVuflGdAFHQPyIBPgT+kdAbIAtChYKR0Cz7ElgcwRGQAdxL3q4/j1AHdfQF4wzSUBK9fgYB/ROQCzSxDvAyUZA3evltRn4RUDfJqQ4NdZGQLWx0bLAJ0VA4Q+U2lEJQECu41HIWz9DQFE6h6XXBEVAt+dydXJBQkDhZezdXTtDQH703dcHCzpAMNuuzW8vR0BM9U2rCxpQQCiUl5KrQEdA\\\"},\\\"shape\\\":[24],\\\"dtype\\\":\\\"float64\\\",\\\"order\\\":\\\"little\\\"}]]},\\\"cols\\\":[\\\"xoffsets\\\",\\\"tariff\\\",\\\"cost\\\"]},{\\\"kind\\\":\\\"ColumnDataChanged\\\",\\\"model\\\":{\\\"id\\\":\\\"ad54b8e9-b93f-49f5-8c79-a2cfef699c81\\\"},\\\"attr\\\":\\\"data\\\",\\\"data\\\":{\\\"type\\\":\\\"map\\\",\\\"entries\\\":[[\\\"xoffsets\\\",[[\\\"Januar\\\",\\\"A\\\\u00dcW\\\"],[\\\"Februar\\\",\\\"A\\\\u00dcW\\\"],[\\\"M\\\\u00e4rz\\\",\\\"A\\\\u00dcW\\\"],[\\\"April\\\",\\\"A\\\\u00dcW\\\"],[\\\"Mai\\\",\\\"A\\\\u00dcW\\\"],[\\\"Juni\\\",\\\"A\\\\u00dcW\\\"],[\\\"Juli\\\",\\\"A\\\\u00dcW\\\"],[\\\"August\\\",\\\"A\\\\u00dcW\\\"],[\\\"September\\\",\\\"A\\\\u00dcW\\\"],[\\\"Oktober\\\",\\\"A\\\\u00dcW\\\"],[\\\"November\\\",\\\"A\\\\u00dcW\\\"],[\\\"Dezember\\\",\\\"A\\\\u00dcW\\\"],[\\\"Januar\\\",\\\"tado\\\"],[\\\"Februar\\\",\\\"tado\\\"],[\\\"M\\\\u00e4rz\\\",\\\"tado\\\"],[\\\"April\\\",\\\"tado\\\"],[\\\"Mai\\\",\\\"tado\\\"],[\\\"Juni\\\",\\\"tado\\\"],[\\\"Juli\\\",\\\"tado\\\"],[\\\"August\\\",\\\"tado\\\"],[\\\"September\\\",\\\"tado\\\"],[\\\"Oktober\\\",\\\"tado\\\"],[\\\"November\\\",\\\"tado\\\"],[\\\"Dezember\\\",\\\"tado\\\"]]]]},\\\"cols\\\":[\\\"xoffsets\\\"]},{\\\"kind\\\":\\\"ColumnDataChanged\\\",\\\"model\\\":{\\\"id\\\":\\\"ad54b8e9-b93f-49f5-8c79-a2cfef699c81\\\"},\\\"attr\\\":\\\"data\\\",\\\"data\\\":{\\\"type\\\":\\\"map\\\",\\\"entries\\\":[[\\\"tariff\\\",[\\\"A\\\\u00dcW\\\",\\\"A\\\\u00dcW\\\",\\\"A\\\\u00dcW\\\",\\\"A\\\\u00dcW\\\",\\\"A\\\\u00dcW\\\",\\\"A\\\\u00dcW\\\",\\\"A\\\\u00dcW\\\",\\\"A\\\\u00dcW\\\",\\\"A\\\\u00dcW\\\",\\\"A\\\\u00dcW\\\",\\\"A\\\\u00dcW\\\",\\\"A\\\\u00dcW\\\",\\\"tado\\\",\\\"tado\\\",\\\"tado\\\",\\\"tado\\\",\\\"tado\\\",\\\"tado\\\",\\\"tado\\\",\\\"tado\\\",\\\"tado\\\",\\\"tado\\\",\\\"tado\\\",\\\"tado\\\"]]]},\\\"cols\\\":[\\\"tariff\\\"]}]}\"]]}],[\"Wohnung 2\",{\"type\":\"map\",\"entries\":[[\"header\",\"{\\\"msgid\\\": \\\"dd417efc-0638-49fb-9d47-08de148fdfd7\\\", \\\"msgtype\\\": \\\"PATCH-DOC\\\"}\"],[\"metadata\",\"{\\\"use_buffers\\\": false}\"],[\"content\",\"{\\\"events\\\":[{\\\"kind\\\":\\\"ModelChanged\\\",\\\"model\\\":{\\\"id\\\":\\\"0c201ed8-c2cd-45ac-9310-c398e94de09b\\\"},\\\"attr\\\":\\\"hold_render\\\",\\\"new\\\":false},{\\\"kind\\\":\\\"ModelChanged\\\",\\\"model\\\":{\\\"id\\\":\\\"370456e3-3aae-4ee8-9ea2-95cbfcc068a0\\\"},\\\"attr\\\":\\\"text\\\",\\\"new\\\":\\\"meter_name: Wohnung 2\\\"},{\\\"kind\\\":\\\"ColumnDataChanged\\\",\\\"model\\\":{\\\"id\\\":\\\"ad54b8e9-b93f-49f5-8c79-a2cfef699c81\\\"},\\\"attr\\\":\\\"data\\\",\\\"data\\\":{\\\"type\\\":\\\"map\\\",\\\"entries\\\":[[\\\"xoffsets\\\",[[\\\"Januar\\\",\\\"A\\\\u00dcW\\\"],[\\\"Februar\\\",\\\"A\\\\u00dcW\\\"],[\\\"M\\\\u00e4rz\\\",\\\"A\\\\u00dcW\\\"],[\\\"April\\\",\\\"A\\\\u00dcW\\\"],[\\\"Mai\\\",\\\"A\\\\u00dcW\\\"],[\\\"Juni\\\",\\\"A\\\\u00dcW\\\"],[\\\"Juli\\\",\\\"A\\\\u00dcW\\\"],[\\\"August\\\",\\\"A\\\\u00dcW\\\"],[\\\"September\\\",\\\"A\\\\u00dcW\\\"],[\\\"Oktober\\\",\\\"A\\\\u00dcW\\\"],[\\\"November\\\",\\\"A\\\\u00dcW\\\"],[\\\"Dezember\\\",\\\"A\\\\u00dcW\\\"],[\\\"Januar\\\",\\\"tado\\\"],[\\\"Februar\\\",\\\"tado\\\"],[\\\"M\\\\u00e4rz\\\",\\\"tado\\\"],[\\\"April\\\",\\\"tado\\\"],[\\\"Mai\\\",\\\"tado\\\"],[\\\"Juni\\\",\\\"tado\\\"],[\\\"Juli\\\",\\\"tado\\\"],[\\\"August\\\",\\\"tado\\\"],[\\\"September\\\",\\\"tado\\\"],[\\\"Oktober\\\",\\\"tado\\\"],[\\\"November\\\",\\\"tado\\\"],[\\\"Dezember\\\",\\\"tado\\\"]]],[\\\"tariff\\\",[\\\"A\\\\u00dcW\\\",\\\"A\\\\u00dcW\\\",\\\"A\\\\u00dcW\\\",\\\"A\\\\u00dcW\\\",\\\"A\\\\u00dcW\\\",\\\"A\\\\u00dcW\\\",\\\"A\\\\u00dcW\\\",\\\"A\\\\u00dcW\\\",\\\"A\\\\u00dcW\\\",\\\"A\\\\u00dcW\\\",\\\"A\\\\u00dcW\\\",\\\"A\\\\u00dcW\\\",\\\"tado\\\",\\\"tado\\\",\\\"tado\\\",\\\"tado\\\",\\\"tado\\\",\\\"tado\\\",\\\"tado\\\",\\\"tado\\\",\\\"tado\\\",\\\"tado\\\",\\\"tado\\\",\\\"tado\\\"]],[\\\"cost\\\",{\\\"type\\\":\\\"ndarray\\\",\\\"array\\\":{\\\"type\\\":\\\"bytes\\\",\\\"data\\\":\\\"fpErUOZhXEClAt1NpoJSQNvgn63eO1BAKa4q+66sQ0ANDkC0oNEuQIqMs45PdTxAgXKABdX9QEArwxPVtjJGQAdUSa6sUElAovyTrk/SUECC/de5ab9SQJcfE4SGK1RAcV3jAW2xWEDX87xyeflNQIff22GkQUpAwXBlQpAtQEC7VUplR2QrQCkrxjTs5jhAX66lxpv+O0DHVNiNuRNEQMhUGmGM+kVAo0IYJ1UaTkCeQaq9xFNSQM1MeilGnFRA\\\"},\\\"shape\\\":[24],\\\"dtype\\\":\\\"float64\\\",\\\"order\\\":\\\"little\\\"}]]},\\\"cols\\\":[\\\"xoffsets\\\",\\\"tariff\\\",\\\"cost\\\"]},{\\\"kind\\\":\\\"ColumnDataChanged\\\",\\\"model\\\":{\\\"id\\\":\\\"ad54b8e9-b93f-49f5-8c79-a2cfef699c81\\\"},\\\"attr\\\":\\\"data\\\",\\\"data\\\":{\\\"type\\\":\\\"map\\\",\\\"entries\\\":[[\\\"xoffsets\\\",[[\\\"Januar\\\",\\\"A\\\\u00dcW\\\"],[\\\"Februar\\\",\\\"A\\\\u00dcW\\\"],[\\\"M\\\\u00e4rz\\\",\\\"A\\\\u00dcW\\\"],[\\\"April\\\",\\\"A\\\\u00dcW\\\"],[\\\"Mai\\\",\\\"A\\\\u00dcW\\\"],[\\\"Juni\\\",\\\"A\\\\u00dcW\\\"],[\\\"Juli\\\",\\\"A\\\\u00dcW\\\"],[\\\"August\\\",\\\"A\\\\u00dcW\\\"],[\\\"September\\\",\\\"A\\\\u00dcW\\\"],[\\\"Oktober\\\",\\\"A\\\\u00dcW\\\"],[\\\"November\\\",\\\"A\\\\u00dcW\\\"],[\\\"Dezember\\\",\\\"A\\\\u00dcW\\\"],[\\\"Januar\\\",\\\"tado\\\"],[\\\"Februar\\\",\\\"tado\\\"],[\\\"M\\\\u00e4rz\\\",\\\"tado\\\"],[\\\"April\\\",\\\"tado\\\"],[\\\"Mai\\\",\\\"tado\\\"],[\\\"Juni\\\",\\\"tado\\\"],[\\\"Juli\\\",\\\"tado\\\"],[\\\"August\\\",\\\"tado\\\"],[\\\"September\\\",\\\"tado\\\"],[\\\"Oktober\\\",\\\"tado\\\"],[\\\"November\\\",\\\"tado\\\"],[\\\"Dezember\\\",\\\"tado\\\"]]]]},\\\"cols\\\":[\\\"xoffsets\\\"]},{\\\"kind\\\":\\\"ColumnDataChanged\\\",\\\"model\\\":{\\\"id\\\":\\\"ad54b8e9-b93f-49f5-8c79-a2cfef699c81\\\"},\\\"attr\\\":\\\"data\\\",\\\"data\\\":{\\\"type\\\":\\\"map\\\",\\\"entries\\\":[[\\\"tariff\\\",[\\\"A\\\\u00dcW\\\",\\\"A\\\\u00dcW\\\",\\\"A\\\\u00dcW\\\",\\\"A\\\\u00dcW\\\",\\\"A\\\\u00dcW\\\",\\\"A\\\\u00dcW\\\",\\\"A\\\\u00dcW\\\",\\\"A\\\\u00dcW\\\",\\\"A\\\\u00dcW\\\",\\\"A\\\\u00dcW\\\",\\\"A\\\\u00dcW\\\",\\\"A\\\\u00dcW\\\",\\\"tado\\\",\\\"tado\\\",\\\"tado\\\",\\\"tado\\\",\\\"tado\\\",\\\"tado\\\",\\\"tado\\\",\\\"tado\\\",\\\"tado\\\",\\\"tado\\\",\\\"tado\\\",\\\"tado\\\"]]]},\\\"cols\\\":[\\\"tariff\\\"]}]}\"]]}],[\"Wohnung 1\",{\"type\":\"map\",\"entries\":[[\"header\",\"{\\\"msgid\\\": \\\"eb86d9c2-58ee-43b2-92f9-61ff12c818d4\\\", \\\"msgtype\\\": \\\"PATCH-DOC\\\"}\"],[\"metadata\",\"{\\\"use_buffers\\\": false}\"],[\"content\",\"{\\\"events\\\":[{\\\"kind\\\":\\\"ModelChanged\\\",\\\"model\\\":{\\\"id\\\":\\\"0c201ed8-c2cd-45ac-9310-c398e94de09b\\\"},\\\"attr\\\":\\\"hold_render\\\",\\\"new\\\":false},{\\\"kind\\\":\\\"ModelChanged\\\",\\\"model\\\":{\\\"id\\\":\\\"370456e3-3aae-4ee8-9ea2-95cbfcc068a0\\\"},\\\"attr\\\":\\\"text\\\",\\\"new\\\":\\\"meter_name: Wohnung 1\\\"},{\\\"kind\\\":\\\"ColumnDataChanged\\\",\\\"model\\\":{\\\"id\\\":\\\"ad54b8e9-b93f-49f5-8c79-a2cfef699c81\\\"},\\\"attr\\\":\\\"data\\\",\\\"data\\\":{\\\"type\\\":\\\"map\\\",\\\"entries\\\":[[\\\"xoffsets\\\",[[\\\"Januar\\\",\\\"A\\\\u00dcW\\\"],[\\\"Februar\\\",\\\"A\\\\u00dcW\\\"],[\\\"M\\\\u00e4rz\\\",\\\"A\\\\u00dcW\\\"],[\\\"April\\\",\\\"A\\\\u00dcW\\\"],[\\\"Mai\\\",\\\"A\\\\u00dcW\\\"],[\\\"Juni\\\",\\\"A\\\\u00dcW\\\"],[\\\"Juli\\\",\\\"A\\\\u00dcW\\\"],[\\\"August\\\",\\\"A\\\\u00dcW\\\"],[\\\"September\\\",\\\"A\\\\u00dcW\\\"],[\\\"Oktober\\\",\\\"A\\\\u00dcW\\\"],[\\\"November\\\",\\\"A\\\\u00dcW\\\"],[\\\"Dezember\\\",\\\"A\\\\u00dcW\\\"],[\\\"Januar\\\",\\\"tado\\\"],[\\\"Februar\\\",\\\"tado\\\"],[\\\"M\\\\u00e4rz\\\",\\\"tado\\\"],[\\\"April\\\",\\\"tado\\\"],[\\\"Mai\\\",\\\"tado\\\"],[\\\"Juni\\\",\\\"tado\\\"],[\\\"Juli\\\",\\\"tado\\\"],[\\\"August\\\",\\\"tado\\\"],[\\\"September\\\",\\\"tado\\\"],[\\\"Oktober\\\",\\\"tado\\\"],[\\\"November\\\",\\\"tado\\\"],[\\\"Dezember\\\",\\\"tado\\\"]]],[\\\"tariff\\\",[\\\"A\\\\u00dcW\\\",\\\"A\\\\u00dcW\\\",\\\"A\\\\u00dcW\\\",\\\"A\\\\u00dcW\\\",\\\"A\\\\u00dcW\\\",\\\"A\\\\u00dcW\\\",\\\"A\\\\u00dcW\\\",\\\"A\\\\u00dcW\\\",\\\"A\\\\u00dcW\\\",\\\"A\\\\u00dcW\\\",\\\"A\\\\u00dcW\\\",\\\"A\\\\u00dcW\\\",\\\"tado\\\",\\\"tado\\\",\\\"tado\\\",\\\"tado\\\",\\\"tado\\\",\\\"tado\\\",\\\"tado\\\",\\\"tado\\\",\\\"tado\\\",\\\"tado\\\",\\\"tado\\\",\\\"tado\\\"]],[\\\"cost\\\",{\\\"type\\\":\\\"ndarray\\\",\\\"array\\\":{\\\"type\\\":\\\"bytes\\\",\\\"data\\\":\\\"g94bQwCUVEAaQK7Dh9JVQHeM4aBz7VlAVQIYhRMZWEDi9ORQdcRXQDu3GiMjG1dA2Vn0TgVpW0BOd0O/WxNZQHP+3IYHc1dAH8gw3dpdWEC7e4Duy/5WQHuVxnlJGFZARxSA5v/KUUA6Y5nviYJRQAvs/uh8zlRAmg+yKu62U0B1QD6bv5JTQBFIbCy2PlRAZyTGW2x2VkCwCPT8L7ZVQEf+MvHt4VNAXobKOSTJVUBBCChTLPlWQO3uSI8LcFZA\\\"},\\\"shape\\\":[24],\\\"dtype\\\":\\\"float64\\\",\\\"order\\\":\\\"little\\\"}]]},\\\"cols\\\":[\\\"xoffsets\\\",\\\"tariff\\\",\\\"cost\\\"]},{\\\"kind\\\":\\\"ColumnDataChanged\\\",\\\"model\\\":{\\\"id\\\":\\\"ad54b8e9-b93f-49f5-8c79-a2cfef699c81\\\"},\\\"attr\\\":\\\"data\\\",\\\"data\\\":{\\\"type\\\":\\\"map\\\",\\\"entries\\\":[[\\\"xoffsets\\\",[[\\\"Januar\\\",\\\"A\\\\u00dcW\\\"],[\\\"Februar\\\",\\\"A\\\\u00dcW\\\"],[\\\"M\\\\u00e4rz\\\",\\\"A\\\\u00dcW\\\"],[\\\"April\\\",\\\"A\\\\u00dcW\\\"],[\\\"Mai\\\",\\\"A\\\\u00dcW\\\"],[\\\"Juni\\\",\\\"A\\\\u00dcW\\\"],[\\\"Juli\\\",\\\"A\\\\u00dcW\\\"],[\\\"August\\\",\\\"A\\\\u00dcW\\\"],[\\\"September\\\",\\\"A\\\\u00dcW\\\"],[\\\"Oktober\\\",\\\"A\\\\u00dcW\\\"],[\\\"November\\\",\\\"A\\\\u00dcW\\\"],[\\\"Dezember\\\",\\\"A\\\\u00dcW\\\"],[\\\"Januar\\\",\\\"tado\\\"],[\\\"Februar\\\",\\\"tado\\\"],[\\\"M\\\\u00e4rz\\\",\\\"tado\\\"],[\\\"April\\\",\\\"tado\\\"],[\\\"Mai\\\",\\\"tado\\\"],[\\\"Juni\\\",\\\"tado\\\"],[\\\"Juli\\\",\\\"tado\\\"],[\\\"August\\\",\\\"tado\\\"],[\\\"September\\\",\\\"tado\\\"],[\\\"Oktober\\\",\\\"tado\\\"],[\\\"November\\\",\\\"tado\\\"],[\\\"Dezember\\\",\\\"tado\\\"]]]]},\\\"cols\\\":[\\\"xoffsets\\\"]},{\\\"kind\\\":\\\"ColumnDataChanged\\\",\\\"model\\\":{\\\"id\\\":\\\"ad54b8e9-b93f-49f5-8c79-a2cfef699c81\\\"},\\\"attr\\\":\\\"data\\\",\\\"data\\\":{\\\"type\\\":\\\"map\\\",\\\"entries\\\":[[\\\"tariff\\\",[\\\"A\\\\u00dcW\\\",\\\"A\\\\u00dcW\\\",\\\"A\\\\u00dcW\\\",\\\"A\\\\u00dcW\\\",\\\"A\\\\u00dcW\\\",\\\"A\\\\u00dcW\\\",\\\"A\\\\u00dcW\\\",\\\"A\\\\u00dcW\\\",\\\"A\\\\u00dcW\\\",\\\"A\\\\u00dcW\\\",\\\"A\\\\u00dcW\\\",\\\"A\\\\u00dcW\\\",\\\"tado\\\",\\\"tado\\\",\\\"tado\\\",\\\"tado\\\",\\\"tado\\\",\\\"tado\\\",\\\"tado\\\",\\\"tado\\\",\\\"tado\\\",\\\"tado\\\",\\\"tado\\\",\\\"tado\\\"]]]},\\\"cols\\\":[\\\"tariff\\\"]}]}\"]]}]]},\"widgets\":{\"type\":\"map\",\"entries\":[[\"5c7bbd74-4ad4-418f-b049-42e93eee3311\",0]]},\"values\":[\"Wohnung 1\"]}}],\"defs\":[{\"type\":\"model\",\"name\":\"ReactiveHTML1\"},{\"type\":\"model\",\"name\":\"FlexBox1\",\"properties\":[{\"name\":\"align_content\",\"kind\":\"Any\",\"default\":\"flex-start\"},{\"name\":\"align_items\",\"kind\":\"Any\",\"default\":\"flex-start\"},{\"name\":\"flex_direction\",\"kind\":\"Any\",\"default\":\"row\"},{\"name\":\"flex_wrap\",\"kind\":\"Any\",\"default\":\"wrap\"},{\"name\":\"gap\",\"kind\":\"Any\",\"default\":\"\"},{\"name\":\"justify_content\",\"kind\":\"Any\",\"default\":\"flex-start\"}]},{\"type\":\"model\",\"name\":\"FloatPanel1\",\"properties\":[{\"name\":\"config\",\"kind\":\"Any\",\"default\":{\"type\":\"map\"}},{\"name\":\"contained\",\"kind\":\"Any\",\"default\":true},{\"name\":\"position\",\"kind\":\"Any\",\"default\":\"right-top\"},{\"name\":\"offsetx\",\"kind\":\"Any\",\"default\":null},{\"name\":\"offsety\",\"kind\":\"Any\",\"default\":null},{\"name\":\"theme\",\"kind\":\"Any\",\"default\":\"primary\"},{\"name\":\"status\",\"kind\":\"Any\",\"default\":\"normalized\"}]},{\"type\":\"model\",\"name\":\"GridStack1\",\"properties\":[{\"name\":\"mode\",\"kind\":\"Any\",\"default\":\"warn\"},{\"name\":\"ncols\",\"kind\":\"Any\",\"default\":null},{\"name\":\"nrows\",\"kind\":\"Any\",\"default\":null},{\"name\":\"allow_resize\",\"kind\":\"Any\",\"default\":true},{\"name\":\"allow_drag\",\"kind\":\"Any\",\"default\":true},{\"name\":\"state\",\"kind\":\"Any\",\"default\":[]}]},{\"type\":\"model\",\"name\":\"drag1\",\"properties\":[{\"name\":\"slider_width\",\"kind\":\"Any\",\"default\":5},{\"name\":\"slider_color\",\"kind\":\"Any\",\"default\":\"black\"},{\"name\":\"value\",\"kind\":\"Any\",\"default\":50}]},{\"type\":\"model\",\"name\":\"click1\",\"properties\":[{\"name\":\"terminal_output\",\"kind\":\"Any\",\"default\":\"\"},{\"name\":\"debug_name\",\"kind\":\"Any\",\"default\":\"\"},{\"name\":\"clears\",\"kind\":\"Any\",\"default\":0}]},{\"type\":\"model\",\"name\":\"FastWrapper1\",\"properties\":[{\"name\":\"object\",\"kind\":\"Any\",\"default\":null},{\"name\":\"style\",\"kind\":\"Any\",\"default\":null}]},{\"type\":\"model\",\"name\":\"NotificationAreaBase1\",\"properties\":[{\"name\":\"js_events\",\"kind\":\"Any\",\"default\":{\"type\":\"map\"}},{\"name\":\"position\",\"kind\":\"Any\",\"default\":\"bottom-right\"},{\"name\":\"_clear\",\"kind\":\"Any\",\"default\":0}]},{\"type\":\"model\",\"name\":\"NotificationArea1\",\"properties\":[{\"name\":\"js_events\",\"kind\":\"Any\",\"default\":{\"type\":\"map\"}},{\"name\":\"notifications\",\"kind\":\"Any\",\"default\":[]},{\"name\":\"position\",\"kind\":\"Any\",\"default\":\"bottom-right\"},{\"name\":\"_clear\",\"kind\":\"Any\",\"default\":0},{\"name\":\"types\",\"kind\":\"Any\",\"default\":[{\"type\":\"map\",\"entries\":[[\"type\",\"warning\"],[\"background\",\"#ffc107\"],[\"icon\",{\"type\":\"map\",\"entries\":[[\"className\",\"fas fa-exclamation-triangle\"],[\"tagName\",\"i\"],[\"color\",\"white\"]]}]]},{\"type\":\"map\",\"entries\":[[\"type\",\"info\"],[\"background\",\"#007bff\"],[\"icon\",{\"type\":\"map\",\"entries\":[[\"className\",\"fas fa-info-circle\"],[\"tagName\",\"i\"],[\"color\",\"white\"]]}]]}]}]},{\"type\":\"model\",\"name\":\"Notification\",\"properties\":[{\"name\":\"background\",\"kind\":\"Any\",\"default\":null},{\"name\":\"duration\",\"kind\":\"Any\",\"default\":3000},{\"name\":\"icon\",\"kind\":\"Any\",\"default\":null},{\"name\":\"message\",\"kind\":\"Any\",\"default\":\"\"},{\"name\":\"notification_type\",\"kind\":\"Any\",\"default\":null},{\"name\":\"_rendered\",\"kind\":\"Any\",\"default\":false},{\"name\":\"_destroyed\",\"kind\":\"Any\",\"default\":false}]},{\"type\":\"model\",\"name\":\"TemplateActions1\",\"properties\":[{\"name\":\"open_modal\",\"kind\":\"Any\",\"default\":0},{\"name\":\"close_modal\",\"kind\":\"Any\",\"default\":0}]},{\"type\":\"model\",\"name\":\"BootstrapTemplateActions1\",\"properties\":[{\"name\":\"open_modal\",\"kind\":\"Any\",\"default\":0},{\"name\":\"close_modal\",\"kind\":\"Any\",\"default\":0}]},{\"type\":\"model\",\"name\":\"TemplateEditor1\",\"properties\":[{\"name\":\"layout\",\"kind\":\"Any\",\"default\":[]}]},{\"type\":\"model\",\"name\":\"MaterialTemplateActions1\",\"properties\":[{\"name\":\"open_modal\",\"kind\":\"Any\",\"default\":0},{\"name\":\"close_modal\",\"kind\":\"Any\",\"default\":0}]},{\"type\":\"model\",\"name\":\"ReactiveESM1\",\"properties\":[{\"name\":\"esm_constants\",\"kind\":\"Any\",\"default\":{\"type\":\"map\"}}]},{\"type\":\"model\",\"name\":\"JSComponent1\",\"properties\":[{\"name\":\"esm_constants\",\"kind\":\"Any\",\"default\":{\"type\":\"map\"}}]},{\"type\":\"model\",\"name\":\"ReactComponent1\",\"properties\":[{\"name\":\"esm_constants\",\"kind\":\"Any\",\"default\":{\"type\":\"map\"}}]},{\"type\":\"model\",\"name\":\"AnyWidgetComponent1\",\"properties\":[{\"name\":\"esm_constants\",\"kind\":\"Any\",\"default\":{\"type\":\"map\"}}]},{\"type\":\"model\",\"name\":\"request_value1\",\"properties\":[{\"name\":\"fill\",\"kind\":\"Any\",\"default\":\"none\"},{\"name\":\"_synced\",\"kind\":\"Any\",\"default\":null},{\"name\":\"_request_sync\",\"kind\":\"Any\",\"default\":0}]}]}};\n",
       "  var render_items = [{\"docid\":\"058dcc9a-e641-48f0-a304-8b979212fa07\",\"roots\":{\"4289b809-b044-4aff-ba35-56feee8a2168\":\"e7faa2c8-e563-43a8-aa52-4a578dfd7817\"},\"root_ids\":[\"4289b809-b044-4aff-ba35-56feee8a2168\"]}];\n",
       "  var docs = Object.values(docs_json)\n",
       "  if (!docs) {\n",
       "    return\n",
       "  }\n",
       "  const py_version = docs[0].version.replace('rc', '-rc.').replace('.dev', '-dev.')\n",
       "  async function embed_document(root) {\n",
       "    var Bokeh = get_bokeh(root)\n",
       "    await Bokeh.embed.embed_items_notebook(docs_json, render_items);\n",
       "    for (const render_item of render_items) {\n",
       "      for (const root_id of render_item.root_ids) {\n",
       "\tconst id_el = document.getElementById(root_id)\n",
       "\tif (id_el.children.length && id_el.children[0].hasAttribute('data-root-id')) {\n",
       "\t  const root_el = id_el.children[0]\n",
       "\t  root_el.id = root_el.id + '-rendered'\n",
       "\t  for (const child of root_el.children) {\n",
       "            // Ensure JupyterLab does not capture keyboard shortcuts\n",
       "            // see: https://jupyterlab.readthedocs.io/en/4.1.x/extension/notebook.html#keyboard-interaction-model\n",
       "\t    child.setAttribute('data-lm-suppress-shortcuts', 'true')\n",
       "\t  }\n",
       "\t}\n",
       "      }\n",
       "    }\n",
       "  }\n",
       "  function get_bokeh(root) {\n",
       "    if (root.Bokeh === undefined) {\n",
       "      return null\n",
       "    } else if (root.Bokeh.version !== py_version) {\n",
       "      if (root.Bokeh.versions === undefined || !root.Bokeh.versions.has(py_version)) {\n",
       "\treturn null\n",
       "      }\n",
       "      return root.Bokeh.versions.get(py_version);\n",
       "    } else if (root.Bokeh.version === py_version) {\n",
       "      return root.Bokeh\n",
       "    }\n",
       "    return null\n",
       "  }\n",
       "  function is_loaded(root) {\n",
       "    var Bokeh = get_bokeh(root)\n",
       "    return (Bokeh != null && Bokeh.Panel !== undefined)\n",
       "  }\n",
       "  if (is_loaded(root)) {\n",
       "    embed_document(root);\n",
       "  } else {\n",
       "    var attempts = 0;\n",
       "    var timer = setInterval(function(root) {\n",
       "      if (is_loaded(root)) {\n",
       "        clearInterval(timer);\n",
       "        embed_document(root);\n",
       "      } else if (document.readyState == \"complete\") {\n",
       "        attempts++;\n",
       "        if (attempts > 200) {\n",
       "          clearInterval(timer);\n",
       "\t  var Bokeh = get_bokeh(root)\n",
       "\t  if (Bokeh == null || Bokeh.Panel == null) {\n",
       "            console.warn(\"Panel: ERROR: Unable to run Panel code because Bokeh or Panel library is missing\");\n",
       "\t  } else {\n",
       "\t    console.warn(\"Panel: WARNING: Attempting to render but not all required libraries could be resolved.\")\n",
       "\t    embed_document(root)\n",
       "\t  }\n",
       "        }\n",
       "      }\n",
       "    }, 25, root)\n",
       "  }\n",
       "})(window);</script>"
      ],
      "text/plain": [
       ":HoloMap   [meter_name]\n",
       "   :Bars   [month,tariff]   (cost)"
      ]
     },
     "execution_count": 27,
     "metadata": {
      "application/vnd.holoviews_exec.v0+json": {
       "id": "4289b809-b044-4aff-ba35-56feee8a2168"
      }
     },
     "output_type": "execute_result"
    }
   ],
   "source": [
    "hv.Table(monthly_cost_df, [\"tariff\", \"meter_name\", \"month\"], [\"cost\"]).to.bars(\n",
    "    [\"month\", \"tariff\"], \"cost\"\n",
    ").opts(width=750, xrotation=90, legend_position=\"right\")"
   ]
  },
  {
   "cell_type": "markdown",
   "metadata": {},
   "source": [
    "## Limitierungen\n",
    "\n",
    "* Während des Krisenjahres sind wurden teilweise auch die Preise von fixen Stromtarifen stark erhöht. Dafür waren \n",
    "  die Netznutzungsgebühren pro kWh noch etwas geringer. Ein exakter Vergleich benötigt genauere Recherchen der tatsächlichen Kosten. \n",
    "* Im Laufe des Jahres wurde eine 22 kWp PV Anlage installiert. \n",
    "\n",
    "## Schlussfolgerungen\n",
    "\n",
    " * Dass die Netznutzungsgebühren als Fixpreis pro kWh berechnet werden verwässert das Preissignal. Um den Anreiz zu erhöhen, den Stromverbrauch \"smart\" zu steuern wäre es sinnvoller die Gebühren abhängig vom Strompreis zu machen. "
   ]
  },
  {
   "cell_type": "code",
   "execution_count": null,
   "metadata": {},
   "outputs": [],
   "source": []
  },
  {
   "cell_type": "code",
   "execution_count": null,
   "metadata": {},
   "outputs": [],
   "source": []
  }
 ],
 "metadata": {
  "kernelspec": {
   "display_name": ".venv",
   "language": "python",
   "name": "python3"
  },
  "language_info": {
   "codemirror_mode": {
    "name": "ipython",
    "version": 3
   },
   "file_extension": ".py",
   "mimetype": "text/x-python",
   "name": "python",
   "nbconvert_exporter": "python",
   "pygments_lexer": "ipython3",
   "version": "3.11.10"
  }
 },
 "nbformat": 4,
 "nbformat_minor": 2
}
