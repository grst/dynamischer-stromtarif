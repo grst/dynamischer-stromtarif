{
 "cells": [
  {
   "cell_type": "markdown",
   "metadata": {},
   "source": [
    "# Dynamischer Stromtarif vs. Standardtarif\n",
    "\n",
    "Dynamische Stromtarife wie z.B. [Tibber][] oder [Tado Hourly][] (ehemals aWATTar) gelten als Teil der Lösung um die Volatitlät erneuerbarere Energien auszugleichen. Anstatt\n",
    "eines fixen Preises pro Kilowattstunde bezahlt man einen variablen Preis abhängig von den Produktionskosten. Wenn die Sonne scheint und der Wind weht, sind diese besonders niedrig. \n",
    "Wenn man sein Verbrauchsverhalten anpasst und große Verbraucher dann einschaltet, wenn der Strom günstig ist, lassen sich damit die Stromkosten senken. Das funktioniert besonders dann \n",
    "gut, wenn man Großverbraucher hat (bspw. eine Wärmepumpe oder ein E-Auto), die sich gut automatisch steuern lassen. \n",
    "\n",
    "Aber wie sieht es für einen normalen Haushalt aus? Ich wohne in einem Haus mit 4 Wohnungen, die sich einen Stromanschluss\n",
    "teilen. Der Verbrauch wird hausintern über Subzähler abgerechnet. Diese Zähler kann ich [digital auslesen](https://github.com/grst/energymeter). \n",
    "Für 2024 habe ich die stundengenauen Verbrauchsdaten für alle vier Wohnungen. Damit kann ich berechnen ob sich ein\n",
    "dynamischer Stromtarif bereits jetzt, ohne steuerbare Großverbraucher rechnen würde. Die Wohnungen haben unterschiedliche\n",
    "Verbrauchsprofile. Zusätzlich verfügt das Haus seit Juni 2024 über eine 24 kWp Photovoltaikanlage mit 22kWh Speicher. \n",
    "In den Sommer und Übergangsmontaten bietet uns das einen Autarkiegrad von fast 100%. Man kauft Netzstrom also haupsächlich\n",
    "im Winter oder Nachts, also dann wenn es auch im Netz keinen PV Strom gibt und der Strom potenziell teurer. Lohnt \n",
    "sich ein dynamischer Stromtarif auch in diesem Fall? \n",
    "\n",
    "\n",
    "|Wohnung|Beschreibung|\n",
    "|--|--|\n",
    "|Wohnung 1 | Ganzjährig bewohnt von einer alleinstehenden Person, ca. 25 Jahre alte Haushaltsgeräte. Außerdem laufen aus historischen Gründen diverse gemeinschaftliche Verbraucher (Treppenhaus, Heizung, ...) auf diesen Zähler|\n",
    "|Wohnung 2 | Ganzjährig bewohnt von zwei Personen, zusätzliche 3kWp Photovolatikanlage mit 6kWh Speicher hinter dem Zähler, teilweise erneuerte Haushalsgeräte |\n",
    "|Wohnung 3 | Neubauwohnung mit neuen Haushaltsgeräten, bewohnt von einer Familie mit zwei kleinen Kindern |\n",
    "|Wohnung 4| Nur sporadisch genutzte Ferienwohnung|\n",
    "\n",
    "\n",
    "## Verglichene Stromtarife\n",
    "\n",
    "Es gibt eine Unzahl an unterschiedlichen Stromtarifen in Deutschland mit teilweise sehr unterschiedlichen\n",
    "Preisstrukturen. Hier betrachte ich nur zwei Tarife: \n",
    " * [AÜW Allgäustrom Basis](https://auew.de/privatkunden/strom/allgaeustrom-basis/), unser bisheriger Anbieter\n",
    " * [Tado Hourly][]\n",
    "\n",
    "Die Tarife gestalten sich wie folgt (alle Preise inkl. MwSt)\n",
    "\n",
    "### AÜW Allgäustrom Basis\n",
    "\n",
    "| Jahr | Arbeitspreis pro kWh (inkl. Netzentgelt) | Grundpreis pro Monat |\n",
    "\n",
    "| 2024 | 32,19 ct | 15,68 EUR |\n",
    "\n",
    "### Tado Hourly\n",
    "\n",
    "| Arbeitspreis pro kWh | Netzentgelt pro kWh | Grundpreis pro Monat |\n",
    "| -- | -- | -- |\n",
    "| variabel | 19,116 ct | 15,77 EUR |\n",
    "\n",
    "\n",
    "## Fragestellungen\n",
    "\n",
    "* Lohnt sich ein dynamischer Stromtarif für einen Standardhaushalt ohne steuerbare Großverbraucher? \n",
    "* Lohnt sich ein dynamischer Stromtarif für einen Haushalt mit PV-Anlage und Heimspeicher? \n",
    "* Wie verändert sich das Ergebnis über die Jahre hinweg, z.B. während des durch den russischen Angriffskrieg auf \n",
    "  die Ukraine verursachte Energiekrise 2022? \n",
    "\n",
    "[Tado Hourly]: https://energy.tado.com/\n",
    "[Tibber]: https://tibber.com/de\n",
    "\n"
   ]
  },
  {
   "cell_type": "markdown",
   "metadata": {},
   "source": [
    "## Limitierungen\n",
    "\n",
    "* Während des Krisenjahres sind wurden teilweise auch die Preise von fixen Stromtarifen stark erhöht. Dafür waren \n",
    "  die Netznutzungsgebühren pro kWh noch etwas geringer. Ein exakter Vergleich benötigt genauere Recherchen der tatsächlichen Kosten. \n",
    "* Im Laufe des Jahres wurde eine 22 kWp PV Anlage installiert. \n",
    "\n",
    "## Schlussfolgerungen\n",
    "\n",
    " * Dass die Netznutzungsgebühren als Fixpreis pro kWh berechnet werden verwässert das Preissignal. Um den Anreiz zu erhöhen, den Stromverbrauch \"smart\" zu steuern wäre es sinnvoller die Gebühren abhängig vom Strompreis zu machen. "
   ]
  }
 ],
 "metadata": {
  "language_info": {
   "name": "python"
  }
 },
 "nbformat": 4,
 "nbformat_minor": 2
}
